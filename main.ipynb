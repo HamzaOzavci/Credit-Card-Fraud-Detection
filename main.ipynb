{
 "cells": [
  {
   "cell_type": "markdown",
   "id": "dfaaf3ad-677e-4cc7-993e-d7ac8497f674",
   "metadata": {},
   "source": [
    "# Analyze Data/Prepocessing"
   ]
  },
  {
   "cell_type": "code",
   "execution_count": 212,
   "id": "b3b0d477-4a8a-4da4-9d61-b47e8ef3fe9e",
   "metadata": {},
   "outputs": [],
   "source": [
    "import pandas as pd\n",
    "\n",
    "df=pd.read_excel(\"data2.xlsx\")"
   ]
  },
  {
   "cell_type": "code",
   "execution_count": 213,
   "id": "093b2a3e-e2da-430e-bb36-2400a8fe6485",
   "metadata": {},
   "outputs": [
    {
     "name": "stdout",
     "output_type": "stream",
     "text": [
      "<class 'pandas.core.frame.DataFrame'>\n",
      "RangeIndex: 5626 entries, 0 to 5625\n",
      "Data columns (total 52 columns):\n",
      " #   Column      Non-Null Count  Dtype  \n",
      "---  ------      --------------  -----  \n",
      " 0   KEY         5626 non-null   int64  \n",
      " 1   VAR_TARGET  5626 non-null   int64  \n",
      " 2   VAR_1       5626 non-null   int64  \n",
      " 3   VAR_2       5626 non-null   object \n",
      " 4   VAR_3       5622 non-null   float64\n",
      " 5   VAR_4       4344 non-null   float64\n",
      " 6   VAR_5       4344 non-null   float64\n",
      " 7   VAR_6       5612 non-null   float64\n",
      " 8   VAR_7       5612 non-null   float64\n",
      " 9   VAR_8       5612 non-null   float64\n",
      " 10  VAR_9       5612 non-null   float64\n",
      " 11  VAR_10      5612 non-null   float64\n",
      " 12  VAR_11      5316 non-null   float64\n",
      " 13  VAR_12      5626 non-null   int64  \n",
      " 14  VAR_13      4528 non-null   float64\n",
      " 15  VAR_14      4528 non-null   float64\n",
      " 16  VAR_15      1801 non-null   float64\n",
      " 17  VAR_16      5598 non-null   object \n",
      " 18  VAR_17      5508 non-null   float64\n",
      " 19  VAR_18      5612 non-null   float64\n",
      " 20  VAR_19      5612 non-null   float64\n",
      " 21  VAR_20      5612 non-null   float64\n",
      " 22  VAR_21      5612 non-null   float64\n",
      " 23  VAR_22      4702 non-null   object \n",
      " 24  VAR_23      5578 non-null   object \n",
      " 25  VAR_24      5626 non-null   int64  \n",
      " 26  VAR_25      5626 non-null   int64  \n",
      " 27  VAR_26      4277 non-null   float64\n",
      " 28  VAR_27      5626 non-null   int64  \n",
      " 29  VAR_28      5626 non-null   int64  \n",
      " 30  VAR_29      5612 non-null   float64\n",
      " 31  VAR_30      5612 non-null   float64\n",
      " 32  VAR_31      5615 non-null   float64\n",
      " 33  VAR_32      1801 non-null   float64\n",
      " 34  VAR_33      1801 non-null   object \n",
      " 35  VAR_34      5626 non-null   int64  \n",
      " 36  VAR_35      5621 non-null   float64\n",
      " 37  VAR_36      5626 non-null   object \n",
      " 38  VAR_37      5626 non-null   object \n",
      " 39  VAR_38      5447 non-null   float64\n",
      " 40  VAR_39      5626 non-null   int64  \n",
      " 41  VAR_40      1513 non-null   float64\n",
      " 42  VAR_41      5621 non-null   float64\n",
      " 43  VAR_42      5621 non-null   float64\n",
      " 44  VAR_43      34 non-null     float64\n",
      " 45  VAR_44      5612 non-null   float64\n",
      " 46  VAR_45      4528 non-null   float64\n",
      " 47  VAR_46      1814 non-null   float64\n",
      " 48  VAR_47      5621 non-null   float64\n",
      " 49  VAR_48      2306 non-null   float64\n",
      " 50  VAR_49      5626 non-null   int64  \n",
      " 51  VAR_50      3362 non-null   float64\n",
      "dtypes: float64(34), int64(11), object(7)\n",
      "memory usage: 2.2+ MB\n"
     ]
    }
   ],
   "source": [
    "df.info()"
   ]
  },
  {
   "cell_type": "code",
   "execution_count": 214,
   "id": "cde688ab-ef0b-48ff-a690-27f3944407bc",
   "metadata": {},
   "outputs": [
    {
     "data": {
      "text/html": [
       "<div>\n",
       "<style scoped>\n",
       "    .dataframe tbody tr th:only-of-type {\n",
       "        vertical-align: middle;\n",
       "    }\n",
       "\n",
       "    .dataframe tbody tr th {\n",
       "        vertical-align: top;\n",
       "    }\n",
       "\n",
       "    .dataframe thead th {\n",
       "        text-align: right;\n",
       "    }\n",
       "</style>\n",
       "<table border=\"1\" class=\"dataframe\">\n",
       "  <thead>\n",
       "    <tr style=\"text-align: right;\">\n",
       "      <th></th>\n",
       "      <th>KEY</th>\n",
       "      <th>VAR_TARGET</th>\n",
       "      <th>VAR_1</th>\n",
       "      <th>VAR_3</th>\n",
       "      <th>VAR_4</th>\n",
       "      <th>VAR_5</th>\n",
       "      <th>VAR_6</th>\n",
       "      <th>VAR_7</th>\n",
       "      <th>VAR_8</th>\n",
       "      <th>VAR_9</th>\n",
       "      <th>...</th>\n",
       "      <th>VAR_41</th>\n",
       "      <th>VAR_42</th>\n",
       "      <th>VAR_43</th>\n",
       "      <th>VAR_44</th>\n",
       "      <th>VAR_45</th>\n",
       "      <th>VAR_46</th>\n",
       "      <th>VAR_47</th>\n",
       "      <th>VAR_48</th>\n",
       "      <th>VAR_49</th>\n",
       "      <th>VAR_50</th>\n",
       "    </tr>\n",
       "  </thead>\n",
       "  <tbody>\n",
       "    <tr>\n",
       "      <th>count</th>\n",
       "      <td>5626.000000</td>\n",
       "      <td>5626.000000</td>\n",
       "      <td>5626.000000</td>\n",
       "      <td>5622.000000</td>\n",
       "      <td>4344.000000</td>\n",
       "      <td>4344.000000</td>\n",
       "      <td>5612.000000</td>\n",
       "      <td>5612.000000</td>\n",
       "      <td>5612.000000</td>\n",
       "      <td>5612.000000</td>\n",
       "      <td>...</td>\n",
       "      <td>5621.000000</td>\n",
       "      <td>5621.000000</td>\n",
       "      <td>34.000000</td>\n",
       "      <td>5612.000000</td>\n",
       "      <td>4528.000000</td>\n",
       "      <td>1814.000000</td>\n",
       "      <td>5621.000000</td>\n",
       "      <td>2306.000000</td>\n",
       "      <td>5.626000e+03</td>\n",
       "      <td>3362.000000</td>\n",
       "    </tr>\n",
       "    <tr>\n",
       "      <th>mean</th>\n",
       "      <td>2813.500000</td>\n",
       "      <td>0.043726</td>\n",
       "      <td>3257.151973</td>\n",
       "      <td>33.639808</td>\n",
       "      <td>6513.402164</td>\n",
       "      <td>3401.622238</td>\n",
       "      <td>0.617962</td>\n",
       "      <td>9748.699572</td>\n",
       "      <td>4144.263899</td>\n",
       "      <td>1148.589095</td>\n",
       "      <td>...</td>\n",
       "      <td>2195.338730</td>\n",
       "      <td>2199.308842</td>\n",
       "      <td>3611.764706</td>\n",
       "      <td>4129.482359</td>\n",
       "      <td>2299.436617</td>\n",
       "      <td>2401.598126</td>\n",
       "      <td>2149.124177</td>\n",
       "      <td>1897.083261</td>\n",
       "      <td>6.115745e+03</td>\n",
       "      <td>3508.943783</td>\n",
       "    </tr>\n",
       "    <tr>\n",
       "      <th>std</th>\n",
       "      <td>1624.230638</td>\n",
       "      <td>0.204502</td>\n",
       "      <td>888.997086</td>\n",
       "      <td>5.607477</td>\n",
       "      <td>7635.750969</td>\n",
       "      <td>4629.699543</td>\n",
       "      <td>1.368544</td>\n",
       "      <td>16482.921883</td>\n",
       "      <td>8517.336280</td>\n",
       "      <td>2160.342345</td>\n",
       "      <td>...</td>\n",
       "      <td>15104.976409</td>\n",
       "      <td>15096.942980</td>\n",
       "      <td>2696.766561</td>\n",
       "      <td>4737.091335</td>\n",
       "      <td>3525.160200</td>\n",
       "      <td>2180.234920</td>\n",
       "      <td>15469.080255</td>\n",
       "      <td>1818.558706</td>\n",
       "      <td>8.491456e+04</td>\n",
       "      <td>6886.322041</td>\n",
       "    </tr>\n",
       "    <tr>\n",
       "      <th>min</th>\n",
       "      <td>1.000000</td>\n",
       "      <td>0.000000</td>\n",
       "      <td>1800.000000</td>\n",
       "      <td>1.000000</td>\n",
       "      <td>0.000000</td>\n",
       "      <td>0.000000</td>\n",
       "      <td>0.000000</td>\n",
       "      <td>0.000000</td>\n",
       "      <td>0.000000</td>\n",
       "      <td>0.000000</td>\n",
       "      <td>...</td>\n",
       "      <td>0.000000</td>\n",
       "      <td>0.000000</td>\n",
       "      <td>1300.000000</td>\n",
       "      <td>0.000000</td>\n",
       "      <td>0.000000</td>\n",
       "      <td>25.000000</td>\n",
       "      <td>0.000000</td>\n",
       "      <td>0.000000</td>\n",
       "      <td>0.000000e+00</td>\n",
       "      <td>500.000000</td>\n",
       "    </tr>\n",
       "    <tr>\n",
       "      <th>25%</th>\n",
       "      <td>1407.250000</td>\n",
       "      <td>0.000000</td>\n",
       "      <td>2606.000000</td>\n",
       "      <td>34.000000</td>\n",
       "      <td>2000.000000</td>\n",
       "      <td>800.000000</td>\n",
       "      <td>0.000000</td>\n",
       "      <td>2000.000000</td>\n",
       "      <td>616.500000</td>\n",
       "      <td>160.000000</td>\n",
       "      <td>...</td>\n",
       "      <td>0.000000</td>\n",
       "      <td>0.000000</td>\n",
       "      <td>2084.500000</td>\n",
       "      <td>1201.500000</td>\n",
       "      <td>0.000000</td>\n",
       "      <td>1364.000000</td>\n",
       "      <td>0.000000</td>\n",
       "      <td>893.000000</td>\n",
       "      <td>1.650000e+03</td>\n",
       "      <td>1774.750000</td>\n",
       "    </tr>\n",
       "    <tr>\n",
       "      <th>50%</th>\n",
       "      <td>2813.500000</td>\n",
       "      <td>0.000000</td>\n",
       "      <td>3103.000000</td>\n",
       "      <td>34.000000</td>\n",
       "      <td>4050.000000</td>\n",
       "      <td>1800.000000</td>\n",
       "      <td>0.000000</td>\n",
       "      <td>5000.000000</td>\n",
       "      <td>2051.000000</td>\n",
       "      <td>582.000000</td>\n",
       "      <td>...</td>\n",
       "      <td>2.000000</td>\n",
       "      <td>12.000000</td>\n",
       "      <td>2985.000000</td>\n",
       "      <td>2650.000000</td>\n",
       "      <td>1000.000000</td>\n",
       "      <td>1855.500000</td>\n",
       "      <td>18.000000</td>\n",
       "      <td>1541.500000</td>\n",
       "      <td>2.500000e+03</td>\n",
       "      <td>2500.000000</td>\n",
       "    </tr>\n",
       "    <tr>\n",
       "      <th>75%</th>\n",
       "      <td>4219.750000</td>\n",
       "      <td>0.000000</td>\n",
       "      <td>3707.000000</td>\n",
       "      <td>34.000000</td>\n",
       "      <td>7900.000000</td>\n",
       "      <td>4200.000000</td>\n",
       "      <td>1.000000</td>\n",
       "      <td>11062.500000</td>\n",
       "      <td>4715.750000</td>\n",
       "      <td>1331.000000</td>\n",
       "      <td>...</td>\n",
       "      <td>238.000000</td>\n",
       "      <td>304.000000</td>\n",
       "      <td>3800.000000</td>\n",
       "      <td>5200.000000</td>\n",
       "      <td>3000.000000</td>\n",
       "      <td>2909.000000</td>\n",
       "      <td>328.000000</td>\n",
       "      <td>2449.000000</td>\n",
       "      <td>3.500000e+03</td>\n",
       "      <td>3600.000000</td>\n",
       "    </tr>\n",
       "    <tr>\n",
       "      <th>max</th>\n",
       "      <td>5626.000000</td>\n",
       "      <td>1.000000</td>\n",
       "      <td>7011.000000</td>\n",
       "      <td>81.000000</td>\n",
       "      <td>81500.000000</td>\n",
       "      <td>45000.000000</td>\n",
       "      <td>31.000000</td>\n",
       "      <td>304800.000000</td>\n",
       "      <td>178711.000000</td>\n",
       "      <td>50203.000000</td>\n",
       "      <td>...</td>\n",
       "      <td>529716.000000</td>\n",
       "      <td>543328.000000</td>\n",
       "      <td>15000.000000</td>\n",
       "      <td>43700.000000</td>\n",
       "      <td>50000.000000</td>\n",
       "      <td>55594.000000</td>\n",
       "      <td>561609.000000</td>\n",
       "      <td>29422.000000</td>\n",
       "      <td>4.200000e+06</td>\n",
       "      <td>220000.000000</td>\n",
       "    </tr>\n",
       "  </tbody>\n",
       "</table>\n",
       "<p>8 rows × 45 columns</p>\n",
       "</div>"
      ],
      "text/plain": [
       "               KEY   VAR_TARGET        VAR_1        VAR_3         VAR_4  \\\n",
       "count  5626.000000  5626.000000  5626.000000  5622.000000   4344.000000   \n",
       "mean   2813.500000     0.043726  3257.151973    33.639808   6513.402164   \n",
       "std    1624.230638     0.204502   888.997086     5.607477   7635.750969   \n",
       "min       1.000000     0.000000  1800.000000     1.000000      0.000000   \n",
       "25%    1407.250000     0.000000  2606.000000    34.000000   2000.000000   \n",
       "50%    2813.500000     0.000000  3103.000000    34.000000   4050.000000   \n",
       "75%    4219.750000     0.000000  3707.000000    34.000000   7900.000000   \n",
       "max    5626.000000     1.000000  7011.000000    81.000000  81500.000000   \n",
       "\n",
       "              VAR_5        VAR_6          VAR_7          VAR_8         VAR_9  \\\n",
       "count   4344.000000  5612.000000    5612.000000    5612.000000   5612.000000   \n",
       "mean    3401.622238     0.617962    9748.699572    4144.263899   1148.589095   \n",
       "std     4629.699543     1.368544   16482.921883    8517.336280   2160.342345   \n",
       "min        0.000000     0.000000       0.000000       0.000000      0.000000   \n",
       "25%      800.000000     0.000000    2000.000000     616.500000    160.000000   \n",
       "50%     1800.000000     0.000000    5000.000000    2051.000000    582.000000   \n",
       "75%     4200.000000     1.000000   11062.500000    4715.750000   1331.000000   \n",
       "max    45000.000000    31.000000  304800.000000  178711.000000  50203.000000   \n",
       "\n",
       "       ...         VAR_41         VAR_42        VAR_43        VAR_44  \\\n",
       "count  ...    5621.000000    5621.000000     34.000000   5612.000000   \n",
       "mean   ...    2195.338730    2199.308842   3611.764706   4129.482359   \n",
       "std    ...   15104.976409   15096.942980   2696.766561   4737.091335   \n",
       "min    ...       0.000000       0.000000   1300.000000      0.000000   \n",
       "25%    ...       0.000000       0.000000   2084.500000   1201.500000   \n",
       "50%    ...       2.000000      12.000000   2985.000000   2650.000000   \n",
       "75%    ...     238.000000     304.000000   3800.000000   5200.000000   \n",
       "max    ...  529716.000000  543328.000000  15000.000000  43700.000000   \n",
       "\n",
       "             VAR_45        VAR_46         VAR_47        VAR_48        VAR_49  \\\n",
       "count   4528.000000   1814.000000    5621.000000   2306.000000  5.626000e+03   \n",
       "mean    2299.436617   2401.598126    2149.124177   1897.083261  6.115745e+03   \n",
       "std     3525.160200   2180.234920   15469.080255   1818.558706  8.491456e+04   \n",
       "min        0.000000     25.000000       0.000000      0.000000  0.000000e+00   \n",
       "25%        0.000000   1364.000000       0.000000    893.000000  1.650000e+03   \n",
       "50%     1000.000000   1855.500000      18.000000   1541.500000  2.500000e+03   \n",
       "75%     3000.000000   2909.000000     328.000000   2449.000000  3.500000e+03   \n",
       "max    50000.000000  55594.000000  561609.000000  29422.000000  4.200000e+06   \n",
       "\n",
       "              VAR_50  \n",
       "count    3362.000000  \n",
       "mean     3508.943783  \n",
       "std      6886.322041  \n",
       "min       500.000000  \n",
       "25%      1774.750000  \n",
       "50%      2500.000000  \n",
       "75%      3600.000000  \n",
       "max    220000.000000  \n",
       "\n",
       "[8 rows x 45 columns]"
      ]
     },
     "execution_count": 214,
     "metadata": {},
     "output_type": "execute_result"
    }
   ],
   "source": [
    "df.describe()"
   ]
  },
  {
   "cell_type": "code",
   "execution_count": 215,
   "id": "d4314f4b-59b6-4081-88cc-b13f9984b050",
   "metadata": {},
   "outputs": [
    {
     "data": {
      "text/plain": [
       "KEY              0\n",
       "VAR_TARGET       0\n",
       "VAR_1            0\n",
       "VAR_2            0\n",
       "VAR_3            4\n",
       "VAR_4         1282\n",
       "VAR_5         1282\n",
       "VAR_6           14\n",
       "VAR_7           14\n",
       "VAR_8           14\n",
       "VAR_9           14\n",
       "VAR_10          14\n",
       "VAR_11         310\n",
       "VAR_12           0\n",
       "VAR_13        1098\n",
       "VAR_14        1098\n",
       "VAR_15        3825\n",
       "VAR_16          28\n",
       "VAR_17         118\n",
       "VAR_18          14\n",
       "VAR_19          14\n",
       "VAR_20          14\n",
       "VAR_21          14\n",
       "VAR_22         924\n",
       "VAR_23          48\n",
       "VAR_24           0\n",
       "VAR_25           0\n",
       "VAR_26        1349\n",
       "VAR_27           0\n",
       "VAR_28           0\n",
       "VAR_29          14\n",
       "VAR_30          14\n",
       "VAR_31          11\n",
       "VAR_32        3825\n",
       "VAR_33        3825\n",
       "VAR_34           0\n",
       "VAR_35           5\n",
       "VAR_36           0\n",
       "VAR_37           0\n",
       "VAR_38         179\n",
       "VAR_39           0\n",
       "VAR_40        4113\n",
       "VAR_41           5\n",
       "VAR_42           5\n",
       "VAR_43        5592\n",
       "VAR_44          14\n",
       "VAR_45        1098\n",
       "VAR_46        3812\n",
       "VAR_47           5\n",
       "VAR_48        3320\n",
       "VAR_49           0\n",
       "VAR_50        2264\n",
       "dtype: int64"
      ]
     },
     "execution_count": 215,
     "metadata": {},
     "output_type": "execute_result"
    }
   ],
   "source": [
    "df.isna().sum()"
   ]
  },
  {
   "cell_type": "code",
   "execution_count": 216,
   "id": "3b1662d7-d668-454f-8cb5-b275ca845d7d",
   "metadata": {},
   "outputs": [],
   "source": [
    "median_value = df['VAR_3'].median()\n",
    "df['VAR_3'] = df['VAR_3'].fillna(median_value)\n",
    "median_value = df['VAR_44'].median()\n",
    "df['VAR_44'] = df['VAR_44'].fillna(median_value)\n",
    "df['VAR_4'] = df['VAR_4'].fillna(df['VAR_44'])\n",
    "df['VAR_5'] = df['VAR_5'].fillna(df['VAR_44'])\n",
    "median_value = df['VAR_6'].median()\n",
    "df['VAR_6'] = df['VAR_6'].fillna(median_value)\n",
    "df['VAR_7'] = df['VAR_7'].fillna(df['VAR_4'])\n",
    "df['VAR_8'] = df['VAR_8'].fillna(df['VAR_7'])\n",
    "df['VAR_9'] = df['VAR_9'].fillna(df['VAR_8'])\n",
    "median_value = df['VAR_10'].median()\n",
    "df['VAR_10'] = df['VAR_10'].fillna(median_value)\n",
    "df['VAR_11'] = df['VAR_11'].fillna('Other')\n",
    "df.drop(columns=['VAR_14', 'VAR_45'], inplace=True)\n",
    "df['VAR_13'] = df['VAR_13'].fillna(df['VAR_7'])\n",
    "\n",
    "median_value = df['VAR_29'].median()\n",
    "df['VAR_29'] = df['VAR_29'].fillna(median_value)\n",
    "df['VAR_15'] = df['VAR_15'].fillna(df['VAR_29'])\n",
    "\n",
    "df['VAR_16'] = df['VAR_16'].fillna('E')\n",
    "median_value = df['VAR_17'].median()\n",
    "df['VAR_17'] = df['VAR_17'].fillna(median_value)\n",
    "df['VAR_20'] = df['VAR_20'].fillna(df['VAR_6'])\n",
    "df['VAR_19'] = df['VAR_19'].fillna(df['VAR_20'])\n",
    "median_value = df['VAR_21'].median()\n",
    "df['VAR_21'] = df['VAR_21'].fillna(median_value)\n",
    "df['VAR_22'] = df['VAR_22'].fillna('Unknown')\n",
    "df['VAR_23'] = df['VAR_23'].fillna('E')\n",
    "df['VAR_26'] = df['VAR_26'].fillna('Unknown')\n",
    "df['VAR_30'] = df['VAR_30'].fillna(df['VAR_29'])\n",
    "median_value = df['VAR_31'].median()\n",
    "df['VAR_31'] = df['VAR_31'].fillna(median_value)\n",
    "\n",
    "\n",
    "df['VAR_32'] = df['VAR_32'].fillna(df['VAR_30'])\n",
    "df['VAR_33'] = df['VAR_33'].fillna('B')\n",
    "\n",
    "median_value = df['VAR_35'].median()\n",
    "df['VAR_35'] = df['VAR_35'].fillna(median_value)\n",
    "median_value = df['VAR_38'].median()\n",
    "df['VAR_38'] = df['VAR_38'].fillna(median_value)\n",
    "\n",
    "\n",
    "\n",
    "\n",
    "\n",
    "median_value = df['VAR_40'].median()\n",
    "df['VAR_40'] = df['VAR_40'].fillna(median_value)\n",
    "\n",
    "median_value = df['VAR_46'].median()\n",
    "df['VAR_46'] = df['VAR_46'].fillna(median_value)\n",
    "median_value = df['VAR_48'].median()\n",
    "df['VAR_48'] = df['VAR_48'].fillna(median_value)\n",
    "\n",
    "df['VAR_44'] = df['VAR_44'].fillna(df['VAR_4'])\n",
    "\n",
    "\n",
    "median_value = df['VAR_41'].median()\n",
    "df['VAR_41'] = df['VAR_41'].fillna(median_value)\n",
    "median_value = df['VAR_42'].median()\n",
    "df['VAR_42'] = df['VAR_42'].fillna(median_value)\n",
    "\n",
    "\n",
    "\n",
    "\n",
    "\n",
    "\n",
    "\n",
    "\n",
    "median_value = df['VAR_47'].median()\n",
    "\n",
    "\n",
    "df['VAR_47'] = df['VAR_47'].fillna(median_value)\n",
    "\n",
    "df.drop(columns=['VAR_43'], inplace=True)\n",
    "median_value = df['VAR_18'].median()\n",
    "df['VAR_18'] = df['VAR_18'].fillna(median_value)\n",
    "df.drop(columns=['VAR_50'], inplace=True)"
   ]
  },
  {
   "cell_type": "code",
   "execution_count": 217,
   "id": "9a3caf4d-7d4a-4f63-afcf-d1d744f31060",
   "metadata": {},
   "outputs": [
    {
     "data": {
      "text/plain": [
       "KEY           0\n",
       "VAR_TARGET    0\n",
       "VAR_1         0\n",
       "VAR_2         0\n",
       "VAR_3         0\n",
       "VAR_4         0\n",
       "VAR_5         0\n",
       "VAR_6         0\n",
       "VAR_7         0\n",
       "VAR_8         0\n",
       "VAR_9         0\n",
       "VAR_10        0\n",
       "VAR_11        0\n",
       "VAR_12        0\n",
       "VAR_13        0\n",
       "VAR_15        0\n",
       "VAR_16        0\n",
       "VAR_17        0\n",
       "VAR_18        0\n",
       "VAR_19        0\n",
       "VAR_20        0\n",
       "VAR_21        0\n",
       "VAR_22        0\n",
       "VAR_23        0\n",
       "VAR_24        0\n",
       "VAR_25        0\n",
       "VAR_26        0\n",
       "VAR_27        0\n",
       "VAR_28        0\n",
       "VAR_29        0\n",
       "VAR_30        0\n",
       "VAR_31        0\n",
       "VAR_32        0\n",
       "VAR_33        0\n",
       "VAR_34        0\n",
       "VAR_35        0\n",
       "VAR_36        0\n",
       "VAR_37        0\n",
       "VAR_38        0\n",
       "VAR_39        0\n",
       "VAR_40        0\n",
       "VAR_41        0\n",
       "VAR_42        0\n",
       "VAR_44        0\n",
       "VAR_46        0\n",
       "VAR_47        0\n",
       "VAR_48        0\n",
       "VAR_49        0\n",
       "dtype: int64"
      ]
     },
     "execution_count": 217,
     "metadata": {},
     "output_type": "execute_result"
    }
   ],
   "source": [
    "df.isna().sum()\n"
   ]
  },
  {
   "cell_type": "markdown",
   "id": "46ea22fb-e1bb-41c2-8537-a3e37037667e",
   "metadata": {},
   "source": [
    "from sklearn.cluster import KMeans\n",
    "import matplotlib.pyplot as plt\n",
    "\n",
    "# \"VAR_18\" sütununu dizilere çevirelim\n",
    "X_values = df['VAR_18'].values.reshape(-1, 1)\n",
    "\n",
    "# Küme sayısını belirleyelim (örneğin 2'den 10'a kadar deneyebiliriz)\n",
    "k_values = range(2, 11)\n",
    "inertia_values = []\n",
    "\n",
    "# Farklı küme sayıları için KMeans modelini oluşturup kümeleme performansını ölçelim\n",
    "for k in k_values:\n",
    "    kmeans = KMeans(n_clusters=k, random_state=42)\n",
    "    kmeans.fit(X_values)\n",
    "    inertia_values.append(kmeans.inertia_)\n",
    "\n",
    "# Elbow noktasını bulmak için grafiği çizelim\n",
    "plt.figure(figsize=(10, 6))\n",
    "plt.plot(k_values, inertia_values, marker='o')\n",
    "plt.xlabel('Küme Sayısı (k)')\n",
    "plt.ylabel('Kümeleme Performansı (Inertia)')\n",
    "plt.title('Elbow Yöntemi ile Optimal Küme Sayısı')\n",
    "plt.xticks(k_values)\n",
    "plt.grid(True)\n",
    "plt.show()"
   ]
  },
  {
   "cell_type": "code",
   "execution_count": 218,
   "id": "e7a8aa80-d938-4619-858a-e044ab46c83b",
   "metadata": {},
   "outputs": [
    {
     "name": "stderr",
     "output_type": "stream",
     "text": [
      "C:\\Users\\Hamza\\yenianaconda\\lib\\site-packages\\sklearn\\cluster\\_kmeans.py:870: FutureWarning:\n",
      "\n",
      "The default value of `n_init` will change from 10 to 'auto' in 1.4. Set the value of `n_init` explicitly to suppress the warning\n",
      "\n"
     ]
    },
    {
     "data": {
      "image/png": "[encoded data removed]",
      "text/plain": [
       "<Figure size 1000x600 with 1 Axes>"
      ]
     },
     "metadata": {},
     "output_type": "display_data"
    }
   ],
   "source": [
    "from sklearn.cluster import KMeans\n",
    "import matplotlib.pyplot as plt\n",
    "\n",
    "\n",
    "k = 3\n",
    "\n",
    "kmeans = KMeans(n_clusters=k, random_state=42)\n",
    "\n",
    "X_values = df['VAR_18'].values.reshape(-1, 1)\n",
    "\n",
    "clusters = kmeans.fit_predict(X_values)\n",
    "\n",
    "\n",
    "df['clustering_var_18'] = clusters\n",
    "\n",
    "\n",
    "plt.figure(figsize=(10, 6))\n",
    "plt.scatter(df['VAR_18'], [0]*len(df), c=clusters, cmap='viridis', s=50)\n",
    "plt.xlabel('VAR_18')\n",
    "plt.title('VAR_18 için Kümeleme Grafiği')\n",
    "plt.show()\n",
    "\n",
    "cluster_names = {0: \"Küme 0\", 1: \"Küme 1\", 2: \"Küme 2\"}\n",
    "df['clustering_var_18_category'] = df['clustering_var_18'].map(cluster_names)\n",
    "\n",
    "df.drop(columns=['clustering_var_18'], inplace=True)\n",
    "\n",
    "\n",
    "\n",
    "df.drop(columns=['VAR_18'], inplace=True)\n"
   ]
  },
  {
   "cell_type": "code",
   "execution_count": 219,
   "id": "a4881fb3-88bd-4314-ad7a-7843dd453e3f",
   "metadata": {},
   "outputs": [],
   "source": [
    "# The clustering process was applied to the target variable, whichis explanatory in nature, VAR_18."
   ]
  },
  {
   "cell_type": "markdown",
   "id": "9a770d7c-9c93-4c90-b888-4bc2d7d44587",
   "metadata": {},
   "source": [
    "# Undersampling"
   ]
  },
  {
   "cell_type": "code",
   "execution_count": 220,
   "id": "fff3d265-1a78-4674-9eb5-11e521188099",
   "metadata": {},
   "outputs": [
    {
     "name": "stdout",
     "output_type": "stream",
     "text": [
      "VAR_TARGET sütununda 1 olan değerlerin toplamı: 246\n"
     ]
    }
   ],
   "source": [
    "\n",
    "sum_of_ones = df[df['VAR_TARGET'] == 1]['VAR_TARGET'].sum()\n",
    "\n",
    "print(\"VAR_TARGET sütununda 1 olan değerlerin toplamı:\", sum_of_ones)"
   ]
  },
  {
   "cell_type": "code",
   "execution_count": 221,
   "id": "726e01e0-6968-48ec-bca5-135948ebe94e",
   "metadata": {},
   "outputs": [
    {
     "data": {
      "text/html": [
       "<div>\n",
       "<style scoped>\n",
       "    .dataframe tbody tr th:only-of-type {\n",
       "        vertical-align: middle;\n",
       "    }\n",
       "\n",
       "    .dataframe tbody tr th {\n",
       "        vertical-align: top;\n",
       "    }\n",
       "\n",
       "    .dataframe thead th {\n",
       "        text-align: right;\n",
       "    }\n",
       "</style>\n",
       "<table border=\"1\" class=\"dataframe\">\n",
       "  <thead>\n",
       "    <tr style=\"text-align: right;\">\n",
       "      <th></th>\n",
       "      <th>KEY</th>\n",
       "      <th>VAR_TARGET</th>\n",
       "      <th>VAR_1</th>\n",
       "      <th>VAR_2</th>\n",
       "      <th>VAR_3</th>\n",
       "      <th>VAR_4</th>\n",
       "      <th>VAR_5</th>\n",
       "      <th>VAR_6</th>\n",
       "      <th>VAR_7</th>\n",
       "      <th>VAR_8</th>\n",
       "      <th>...</th>\n",
       "      <th>VAR_39</th>\n",
       "      <th>VAR_40</th>\n",
       "      <th>VAR_41</th>\n",
       "      <th>VAR_42</th>\n",
       "      <th>VAR_44</th>\n",
       "      <th>VAR_46</th>\n",
       "      <th>VAR_47</th>\n",
       "      <th>VAR_48</th>\n",
       "      <th>VAR_49</th>\n",
       "      <th>clustering_var_18_category</th>\n",
       "    </tr>\n",
       "  </thead>\n",
       "  <tbody>\n",
       "    <tr>\n",
       "      <th>450</th>\n",
       "      <td>451</td>\n",
       "      <td>1</td>\n",
       "      <td>3403</td>\n",
       "      <td>Q</td>\n",
       "      <td>34.0</td>\n",
       "      <td>0.0</td>\n",
       "      <td>0.0</td>\n",
       "      <td>2.0</td>\n",
       "      <td>0.0</td>\n",
       "      <td>0.0</td>\n",
       "      <td>...</td>\n",
       "      <td>3</td>\n",
       "      <td>5429.0</td>\n",
       "      <td>0.0</td>\n",
       "      <td>0.0</td>\n",
       "      <td>0.0</td>\n",
       "      <td>1855.5</td>\n",
       "      <td>0.0</td>\n",
       "      <td>1541.5</td>\n",
       "      <td>2000</td>\n",
       "      <td>Küme 2</td>\n",
       "    </tr>\n",
       "    <tr>\n",
       "      <th>267</th>\n",
       "      <td>268</td>\n",
       "      <td>1</td>\n",
       "      <td>2502</td>\n",
       "      <td>W</td>\n",
       "      <td>34.0</td>\n",
       "      <td>0.0</td>\n",
       "      <td>0.0</td>\n",
       "      <td>0.0</td>\n",
       "      <td>0.0</td>\n",
       "      <td>0.0</td>\n",
       "      <td>...</td>\n",
       "      <td>0</td>\n",
       "      <td>5429.0</td>\n",
       "      <td>0.0</td>\n",
       "      <td>0.0</td>\n",
       "      <td>0.0</td>\n",
       "      <td>1855.5</td>\n",
       "      <td>0.0</td>\n",
       "      <td>1541.5</td>\n",
       "      <td>1500</td>\n",
       "      <td>Küme 2</td>\n",
       "    </tr>\n",
       "    <tr>\n",
       "      <th>2122</th>\n",
       "      <td>2123</td>\n",
       "      <td>0</td>\n",
       "      <td>2408</td>\n",
       "      <td>I</td>\n",
       "      <td>1.0</td>\n",
       "      <td>0.0</td>\n",
       "      <td>0.0</td>\n",
       "      <td>0.0</td>\n",
       "      <td>0.0</td>\n",
       "      <td>0.0</td>\n",
       "      <td>...</td>\n",
       "      <td>16</td>\n",
       "      <td>5429.0</td>\n",
       "      <td>131.0</td>\n",
       "      <td>130.0</td>\n",
       "      <td>0.0</td>\n",
       "      <td>1214.0</td>\n",
       "      <td>117.0</td>\n",
       "      <td>1201.0</td>\n",
       "      <td>1020</td>\n",
       "      <td>Küme 0</td>\n",
       "    </tr>\n",
       "    <tr>\n",
       "      <th>789</th>\n",
       "      <td>790</td>\n",
       "      <td>0</td>\n",
       "      <td>3109</td>\n",
       "      <td>W</td>\n",
       "      <td>34.0</td>\n",
       "      <td>9900.0</td>\n",
       "      <td>9900.0</td>\n",
       "      <td>0.0</td>\n",
       "      <td>9900.0</td>\n",
       "      <td>2667.0</td>\n",
       "      <td>...</td>\n",
       "      <td>0</td>\n",
       "      <td>5429.0</td>\n",
       "      <td>0.0</td>\n",
       "      <td>0.0</td>\n",
       "      <td>9900.0</td>\n",
       "      <td>1855.5</td>\n",
       "      <td>0.0</td>\n",
       "      <td>1541.5</td>\n",
       "      <td>12000</td>\n",
       "      <td>Küme 0</td>\n",
       "    </tr>\n",
       "    <tr>\n",
       "      <th>175</th>\n",
       "      <td>176</td>\n",
       "      <td>1</td>\n",
       "      <td>3209</td>\n",
       "      <td>I</td>\n",
       "      <td>34.0</td>\n",
       "      <td>0.0</td>\n",
       "      <td>0.0</td>\n",
       "      <td>0.0</td>\n",
       "      <td>0.0</td>\n",
       "      <td>0.0</td>\n",
       "      <td>...</td>\n",
       "      <td>0</td>\n",
       "      <td>5429.0</td>\n",
       "      <td>21.0</td>\n",
       "      <td>10.0</td>\n",
       "      <td>0.0</td>\n",
       "      <td>1855.5</td>\n",
       "      <td>10.0</td>\n",
       "      <td>0.0</td>\n",
       "      <td>1750</td>\n",
       "      <td>Küme 2</td>\n",
       "    </tr>\n",
       "  </tbody>\n",
       "</table>\n",
       "<p>5 rows × 48 columns</p>\n",
       "</div>"
      ],
      "text/plain": [
       "       KEY  VAR_TARGET  VAR_1 VAR_2  VAR_3   VAR_4   VAR_5  VAR_6   VAR_7  \\\n",
       "450    451           1   3403     Q   34.0     0.0     0.0    2.0     0.0   \n",
       "267    268           1   2502     W   34.0     0.0     0.0    0.0     0.0   \n",
       "2122  2123           0   2408     I    1.0     0.0     0.0    0.0     0.0   \n",
       "789    790           0   3109     W   34.0  9900.0  9900.0    0.0  9900.0   \n",
       "175    176           1   3209     I   34.0     0.0     0.0    0.0     0.0   \n",
       "\n",
       "       VAR_8  ...  VAR_39  VAR_40 VAR_41  VAR_42  VAR_44  VAR_46 VAR_47  \\\n",
       "450      0.0  ...       3  5429.0    0.0     0.0     0.0  1855.5    0.0   \n",
       "267      0.0  ...       0  5429.0    0.0     0.0     0.0  1855.5    0.0   \n",
       "2122     0.0  ...      16  5429.0  131.0   130.0     0.0  1214.0  117.0   \n",
       "789   2667.0  ...       0  5429.0    0.0     0.0  9900.0  1855.5    0.0   \n",
       "175      0.0  ...       0  5429.0   21.0    10.0     0.0  1855.5   10.0   \n",
       "\n",
       "      VAR_48  VAR_49  clustering_var_18_category  \n",
       "450   1541.5    2000                      Küme 2  \n",
       "267   1541.5    1500                      Küme 2  \n",
       "2122  1201.0    1020                      Küme 0  \n",
       "789   1541.5   12000                      Küme 0  \n",
       "175      0.0    1750                      Küme 2  \n",
       "\n",
       "[5 rows x 48 columns]"
      ]
     },
     "execution_count": 221,
     "metadata": {},
     "output_type": "execute_result"
    }
   ],
   "source": [
    "\n",
    "\n",
    "df = df.sample(frac=1)\n",
    "\n",
    "\n",
    "fraud_df = df.loc[df['VAR_TARGET'] == 1]\n",
    "non_fraud_df = df.loc[df['VAR_TARGET'] == 0][:246]\n",
    "\n",
    "normal_distributed_df = pd.concat([fraud_df, non_fraud_df])\n",
    "\n",
    "\n",
    "new_df = normal_distributed_df.sample(frac=1, random_state=42)\n",
    "df=new_df\n",
    "new_df.head()"
   ]
  },
  {
   "cell_type": "code",
   "execution_count": 222,
   "id": "a8a5f9f1-c55e-4540-ac83-44cc0630de3f",
   "metadata": {},
   "outputs": [
    {
     "name": "stdout",
     "output_type": "stream",
     "text": [
      "<class 'pandas.core.frame.DataFrame'>\n",
      "Int64Index: 492 entries, 450 to 294\n",
      "Data columns (total 48 columns):\n",
      " #   Column                      Non-Null Count  Dtype  \n",
      "---  ------                      --------------  -----  \n",
      " 0   KEY                         492 non-null    int64  \n",
      " 1   VAR_TARGET                  492 non-null    int64  \n",
      " 2   VAR_1                       492 non-null    int64  \n",
      " 3   VAR_2                       492 non-null    object \n",
      " 4   VAR_3                       492 non-null    float64\n",
      " 5   VAR_4                       492 non-null    float64\n",
      " 6   VAR_5                       492 non-null    float64\n",
      " 7   VAR_6                       492 non-null    float64\n",
      " 8   VAR_7                       492 non-null    float64\n",
      " 9   VAR_8                       492 non-null    float64\n",
      " 10  VAR_9                       492 non-null    float64\n",
      " 11  VAR_10                      492 non-null    float64\n",
      " 12  VAR_11                      492 non-null    object \n",
      " 13  VAR_12                      492 non-null    int64  \n",
      " 14  VAR_13                      492 non-null    float64\n",
      " 15  VAR_15                      492 non-null    float64\n",
      " 16  VAR_16                      492 non-null    object \n",
      " 17  VAR_17                      492 non-null    float64\n",
      " 18  VAR_19                      492 non-null    float64\n",
      " 19  VAR_20                      492 non-null    float64\n",
      " 20  VAR_21                      492 non-null    float64\n",
      " 21  VAR_22                      492 non-null    object \n",
      " 22  VAR_23                      492 non-null    object \n",
      " 23  VAR_24                      492 non-null    int64  \n",
      " 24  VAR_25                      492 non-null    int64  \n",
      " 25  VAR_26                      492 non-null    object \n",
      " 26  VAR_27                      492 non-null    int64  \n",
      " 27  VAR_28                      492 non-null    int64  \n",
      " 28  VAR_29                      492 non-null    float64\n",
      " 29  VAR_30                      492 non-null    float64\n",
      " 30  VAR_31                      492 non-null    float64\n",
      " 31  VAR_32                      492 non-null    float64\n",
      " 32  VAR_33                      492 non-null    object \n",
      " 33  VAR_34                      492 non-null    int64  \n",
      " 34  VAR_35                      492 non-null    float64\n",
      " 35  VAR_36                      492 non-null    object \n",
      " 36  VAR_37                      492 non-null    object \n",
      " 37  VAR_38                      492 non-null    float64\n",
      " 38  VAR_39                      492 non-null    int64  \n",
      " 39  VAR_40                      492 non-null    float64\n",
      " 40  VAR_41                      492 non-null    float64\n",
      " 41  VAR_42                      492 non-null    float64\n",
      " 42  VAR_44                      492 non-null    float64\n",
      " 43  VAR_46                      492 non-null    float64\n",
      " 44  VAR_47                      492 non-null    float64\n",
      " 45  VAR_48                      492 non-null    float64\n",
      " 46  VAR_49                      492 non-null    int64  \n",
      " 47  clustering_var_18_category  492 non-null    object \n",
      "dtypes: float64(27), int64(11), object(10)\n",
      "memory usage: 188.3+ KB\n"
     ]
    }
   ],
   "source": [
    "df.info()"
   ]
  },
  {
   "cell_type": "code",
   "execution_count": 223,
   "id": "17987114-d843-495e-9202-3251cc153322",
   "metadata": {},
   "outputs": [
    {
     "name": "stdout",
     "output_type": "stream",
     "text": [
      "No Frauds 50.0 % of the dataset\n",
      "Frauds 50.0 % of the dataset\n"
     ]
    }
   ],
   "source": [
    "print('No Frauds', round(new_df['VAR_TARGET'].value_counts()[0]/len(df) * 100,2), '% of the dataset')\n",
    "print('Frauds', round(new_df['VAR_TARGET'].value_counts()[1]/len(df) * 100,2), '% of the dataset')"
   ]
  },
  {
   "cell_type": "markdown",
   "id": "1a407725-66cf-4bdc-8328-4db812f3099c",
   "metadata": {},
   "source": [
    "# Train-Test Split"
   ]
  },
  {
   "cell_type": "code",
   "execution_count": 224,
   "id": "a3ebdf12-37dd-4eda-ba37-c15d1ade5c83",
   "metadata": {},
   "outputs": [],
   "source": [
    "from sklearn.model_selection import train_test_split\n",
    "\n",
    "\n",
    "X = df.drop(['VAR_TARGET',\"KEY\"], axis=1)\n",
    "y = df['VAR_TARGET']\n",
    "\n",
    "X_train, X_test, y_train, y_test = train_test_split(X, y, test_size=0.2, random_state=42, stratify = df.VAR_TARGET)"
   ]
  },
  {
   "cell_type": "code",
   "execution_count": 225,
   "id": "385e3c42-c78f-41b2-bbde-822da9df21f1",
   "metadata": {},
   "outputs": [
    {
     "data": {
      "text/plain": [
       "0    50\n",
       "1    49\n",
       "Name: VAR_TARGET, dtype: int64"
      ]
     },
     "execution_count": 225,
     "metadata": {},
     "output_type": "execute_result"
    }
   ],
   "source": [
    "y_test.value_counts()"
   ]
  },
  {
   "cell_type": "code",
   "execution_count": 226,
   "id": "7d078d5b-0d80-4c0a-82c0-e788f87ce171",
   "metadata": {},
   "outputs": [
    {
     "data": {
      "text/plain": [
       "1    197\n",
       "0    196\n",
       "Name: VAR_TARGET, dtype: int64"
      ]
     },
     "execution_count": 226,
     "metadata": {},
     "output_type": "execute_result"
    }
   ],
   "source": [
    "y_train.value_counts()"
   ]
  },
  {
   "cell_type": "code",
   "execution_count": 227,
   "id": "adb35dbf-f992-4fdf-bc25-c3bfa6cd6b1f",
   "metadata": {},
   "outputs": [],
   "source": [
    "from category_encoders import TargetEncoder\n",
    "\n",
    "encoder = TargetEncoder()\n",
    "X_train_encoded = encoder.fit_transform(X_train, y_train)\n",
    "X_test_encoded = encoder.transform(X_test, y_test)"
   ]
  },
  {
   "cell_type": "code",
   "execution_count": 228,
   "id": "8a7f9a4c-b351-4c5e-badb-f3c562728be6",
   "metadata": {},
   "outputs": [
    {
     "data": {
      "text/html": [
       "<div>\n",
       "<style scoped>\n",
       "    .dataframe tbody tr th:only-of-type {\n",
       "        vertical-align: middle;\n",
       "    }\n",
       "\n",
       "    .dataframe tbody tr th {\n",
       "        vertical-align: top;\n",
       "    }\n",
       "\n",
       "    .dataframe thead th {\n",
       "        text-align: right;\n",
       "    }\n",
       "</style>\n",
       "<table border=\"1\" class=\"dataframe\">\n",
       "  <thead>\n",
       "    <tr style=\"text-align: right;\">\n",
       "      <th></th>\n",
       "      <th>VAR_1</th>\n",
       "      <th>VAR_2</th>\n",
       "      <th>VAR_3</th>\n",
       "      <th>VAR_4</th>\n",
       "      <th>VAR_5</th>\n",
       "      <th>VAR_6</th>\n",
       "      <th>VAR_7</th>\n",
       "      <th>VAR_8</th>\n",
       "      <th>VAR_9</th>\n",
       "      <th>VAR_10</th>\n",
       "      <th>...</th>\n",
       "      <th>VAR_39</th>\n",
       "      <th>VAR_40</th>\n",
       "      <th>VAR_41</th>\n",
       "      <th>VAR_42</th>\n",
       "      <th>VAR_44</th>\n",
       "      <th>VAR_46</th>\n",
       "      <th>VAR_47</th>\n",
       "      <th>VAR_48</th>\n",
       "      <th>VAR_49</th>\n",
       "      <th>clustering_var_18_category</th>\n",
       "    </tr>\n",
       "  </thead>\n",
       "  <tbody>\n",
       "    <tr>\n",
       "      <th>689</th>\n",
       "      <td>4510</td>\n",
       "      <td>0.416667</td>\n",
       "      <td>34.0</td>\n",
       "      <td>2000.0</td>\n",
       "      <td>400.0</td>\n",
       "      <td>0.0</td>\n",
       "      <td>3900.0</td>\n",
       "      <td>2773.0</td>\n",
       "      <td>1075.0</td>\n",
       "      <td>407.0</td>\n",
       "      <td>...</td>\n",
       "      <td>0</td>\n",
       "      <td>5429.0</td>\n",
       "      <td>0.0</td>\n",
       "      <td>0.0</td>\n",
       "      <td>1300.0</td>\n",
       "      <td>1855.5</td>\n",
       "      <td>0.0</td>\n",
       "      <td>1541.5</td>\n",
       "      <td>2523</td>\n",
       "      <td>0.629213</td>\n",
       "    </tr>\n",
       "    <tr>\n",
       "      <th>17</th>\n",
       "      <td>2606</td>\n",
       "      <td>0.519380</td>\n",
       "      <td>34.0</td>\n",
       "      <td>3500.0</td>\n",
       "      <td>3500.0</td>\n",
       "      <td>6.0</td>\n",
       "      <td>4000.0</td>\n",
       "      <td>3789.0</td>\n",
       "      <td>200.0</td>\n",
       "      <td>0.0</td>\n",
       "      <td>...</td>\n",
       "      <td>2</td>\n",
       "      <td>5429.0</td>\n",
       "      <td>7.0</td>\n",
       "      <td>6.0</td>\n",
       "      <td>2000.0</td>\n",
       "      <td>1474.0</td>\n",
       "      <td>3.0</td>\n",
       "      <td>1108.0</td>\n",
       "      <td>1550</td>\n",
       "      <td>0.629213</td>\n",
       "    </tr>\n",
       "    <tr>\n",
       "      <th>778</th>\n",
       "      <td>3500</td>\n",
       "      <td>0.416667</td>\n",
       "      <td>34.0</td>\n",
       "      <td>2550.0</td>\n",
       "      <td>2550.0</td>\n",
       "      <td>0.0</td>\n",
       "      <td>2550.0</td>\n",
       "      <td>1261.0</td>\n",
       "      <td>500.0</td>\n",
       "      <td>0.0</td>\n",
       "      <td>...</td>\n",
       "      <td>1</td>\n",
       "      <td>5429.0</td>\n",
       "      <td>0.0</td>\n",
       "      <td>0.0</td>\n",
       "      <td>2550.0</td>\n",
       "      <td>1855.5</td>\n",
       "      <td>0.0</td>\n",
       "      <td>1541.5</td>\n",
       "      <td>1500</td>\n",
       "      <td>0.282486</td>\n",
       "    </tr>\n",
       "    <tr>\n",
       "      <th>465</th>\n",
       "      <td>1804</td>\n",
       "      <td>0.519380</td>\n",
       "      <td>34.0</td>\n",
       "      <td>2900.0</td>\n",
       "      <td>2900.0</td>\n",
       "      <td>1.0</td>\n",
       "      <td>2900.0</td>\n",
       "      <td>0.0</td>\n",
       "      <td>0.0</td>\n",
       "      <td>0.0</td>\n",
       "      <td>...</td>\n",
       "      <td>0</td>\n",
       "      <td>5429.0</td>\n",
       "      <td>0.0</td>\n",
       "      <td>0.0</td>\n",
       "      <td>2900.0</td>\n",
       "      <td>1855.5</td>\n",
       "      <td>0.0</td>\n",
       "      <td>0.0</td>\n",
       "      <td>3500</td>\n",
       "      <td>0.861506</td>\n",
       "    </tr>\n",
       "    <tr>\n",
       "      <th>3158</th>\n",
       "      <td>2008</td>\n",
       "      <td>0.616951</td>\n",
       "      <td>34.0</td>\n",
       "      <td>1000.0</td>\n",
       "      <td>1000.0</td>\n",
       "      <td>0.0</td>\n",
       "      <td>1000.0</td>\n",
       "      <td>1000.0</td>\n",
       "      <td>250.0</td>\n",
       "      <td>199.0</td>\n",
       "      <td>...</td>\n",
       "      <td>0</td>\n",
       "      <td>5429.0</td>\n",
       "      <td>0.0</td>\n",
       "      <td>0.0</td>\n",
       "      <td>1000.0</td>\n",
       "      <td>1855.5</td>\n",
       "      <td>0.0</td>\n",
       "      <td>1541.5</td>\n",
       "      <td>1700</td>\n",
       "      <td>0.629213</td>\n",
       "    </tr>\n",
       "    <tr>\n",
       "      <th>...</th>\n",
       "      <td>...</td>\n",
       "      <td>...</td>\n",
       "      <td>...</td>\n",
       "      <td>...</td>\n",
       "      <td>...</td>\n",
       "      <td>...</td>\n",
       "      <td>...</td>\n",
       "      <td>...</td>\n",
       "      <td>...</td>\n",
       "      <td>...</td>\n",
       "      <td>...</td>\n",
       "      <td>...</td>\n",
       "      <td>...</td>\n",
       "      <td>...</td>\n",
       "      <td>...</td>\n",
       "      <td>...</td>\n",
       "      <td>...</td>\n",
       "      <td>...</td>\n",
       "      <td>...</td>\n",
       "      <td>...</td>\n",
       "      <td>...</td>\n",
       "    </tr>\n",
       "    <tr>\n",
       "      <th>3065</th>\n",
       "      <td>2604</td>\n",
       "      <td>0.416667</td>\n",
       "      <td>34.0</td>\n",
       "      <td>10500.0</td>\n",
       "      <td>10500.0</td>\n",
       "      <td>0.0</td>\n",
       "      <td>10500.0</td>\n",
       "      <td>5844.0</td>\n",
       "      <td>360.0</td>\n",
       "      <td>1105.0</td>\n",
       "      <td>...</td>\n",
       "      <td>0</td>\n",
       "      <td>5429.0</td>\n",
       "      <td>0.0</td>\n",
       "      <td>0.0</td>\n",
       "      <td>10500.0</td>\n",
       "      <td>1855.5</td>\n",
       "      <td>0.0</td>\n",
       "      <td>1541.5</td>\n",
       "      <td>1500</td>\n",
       "      <td>0.629213</td>\n",
       "    </tr>\n",
       "    <tr>\n",
       "      <th>350</th>\n",
       "      <td>2706</td>\n",
       "      <td>0.572017</td>\n",
       "      <td>34.0</td>\n",
       "      <td>0.0</td>\n",
       "      <td>0.0</td>\n",
       "      <td>1.0</td>\n",
       "      <td>0.0</td>\n",
       "      <td>0.0</td>\n",
       "      <td>0.0</td>\n",
       "      <td>0.0</td>\n",
       "      <td>...</td>\n",
       "      <td>0</td>\n",
       "      <td>5429.0</td>\n",
       "      <td>0.0</td>\n",
       "      <td>0.0</td>\n",
       "      <td>0.0</td>\n",
       "      <td>1855.5</td>\n",
       "      <td>0.0</td>\n",
       "      <td>1541.5</td>\n",
       "      <td>2000</td>\n",
       "      <td>0.629213</td>\n",
       "    </tr>\n",
       "    <tr>\n",
       "      <th>290</th>\n",
       "      <td>2107</td>\n",
       "      <td>0.416667</td>\n",
       "      <td>34.0</td>\n",
       "      <td>0.0</td>\n",
       "      <td>0.0</td>\n",
       "      <td>0.0</td>\n",
       "      <td>0.0</td>\n",
       "      <td>0.0</td>\n",
       "      <td>0.0</td>\n",
       "      <td>0.0</td>\n",
       "      <td>...</td>\n",
       "      <td>3</td>\n",
       "      <td>12501.0</td>\n",
       "      <td>515.0</td>\n",
       "      <td>882.0</td>\n",
       "      <td>0.0</td>\n",
       "      <td>1855.5</td>\n",
       "      <td>441.0</td>\n",
       "      <td>1541.5</td>\n",
       "      <td>2500</td>\n",
       "      <td>0.629213</td>\n",
       "    </tr>\n",
       "    <tr>\n",
       "      <th>4239</th>\n",
       "      <td>3508</td>\n",
       "      <td>0.616951</td>\n",
       "      <td>34.0</td>\n",
       "      <td>0.0</td>\n",
       "      <td>0.0</td>\n",
       "      <td>0.0</td>\n",
       "      <td>0.0</td>\n",
       "      <td>0.0</td>\n",
       "      <td>0.0</td>\n",
       "      <td>0.0</td>\n",
       "      <td>...</td>\n",
       "      <td>0</td>\n",
       "      <td>5429.0</td>\n",
       "      <td>0.0</td>\n",
       "      <td>0.0</td>\n",
       "      <td>0.0</td>\n",
       "      <td>1855.5</td>\n",
       "      <td>0.0</td>\n",
       "      <td>1541.5</td>\n",
       "      <td>3200</td>\n",
       "      <td>0.629213</td>\n",
       "    </tr>\n",
       "    <tr>\n",
       "      <th>3210</th>\n",
       "      <td>3708</td>\n",
       "      <td>0.416667</td>\n",
       "      <td>34.0</td>\n",
       "      <td>30000.0</td>\n",
       "      <td>5000.0</td>\n",
       "      <td>1.0</td>\n",
       "      <td>78100.0</td>\n",
       "      <td>8005.0</td>\n",
       "      <td>5267.0</td>\n",
       "      <td>0.0</td>\n",
       "      <td>...</td>\n",
       "      <td>6</td>\n",
       "      <td>250907.0</td>\n",
       "      <td>200.0</td>\n",
       "      <td>195.0</td>\n",
       "      <td>15620.0</td>\n",
       "      <td>1855.5</td>\n",
       "      <td>788.0</td>\n",
       "      <td>1541.5</td>\n",
       "      <td>25000</td>\n",
       "      <td>0.282486</td>\n",
       "    </tr>\n",
       "  </tbody>\n",
       "</table>\n",
       "<p>393 rows × 46 columns</p>\n",
       "</div>"
      ],
      "text/plain": [
       "      VAR_1     VAR_2  VAR_3    VAR_4    VAR_5  VAR_6    VAR_7   VAR_8  \\\n",
       "689    4510  0.416667   34.0   2000.0    400.0    0.0   3900.0  2773.0   \n",
       "17     2606  0.519380   34.0   3500.0   3500.0    6.0   4000.0  3789.0   \n",
       "778    3500  0.416667   34.0   2550.0   2550.0    0.0   2550.0  1261.0   \n",
       "465    1804  0.519380   34.0   2900.0   2900.0    1.0   2900.0     0.0   \n",
       "3158   2008  0.616951   34.0   1000.0   1000.0    0.0   1000.0  1000.0   \n",
       "...     ...       ...    ...      ...      ...    ...      ...     ...   \n",
       "3065   2604  0.416667   34.0  10500.0  10500.0    0.0  10500.0  5844.0   \n",
       "350    2706  0.572017   34.0      0.0      0.0    1.0      0.0     0.0   \n",
       "290    2107  0.416667   34.0      0.0      0.0    0.0      0.0     0.0   \n",
       "4239   3508  0.616951   34.0      0.0      0.0    0.0      0.0     0.0   \n",
       "3210   3708  0.416667   34.0  30000.0   5000.0    1.0  78100.0  8005.0   \n",
       "\n",
       "       VAR_9  VAR_10  ...  VAR_39    VAR_40  VAR_41  VAR_42   VAR_44  VAR_46  \\\n",
       "689   1075.0   407.0  ...       0    5429.0     0.0     0.0   1300.0  1855.5   \n",
       "17     200.0     0.0  ...       2    5429.0     7.0     6.0   2000.0  1474.0   \n",
       "778    500.0     0.0  ...       1    5429.0     0.0     0.0   2550.0  1855.5   \n",
       "465      0.0     0.0  ...       0    5429.0     0.0     0.0   2900.0  1855.5   \n",
       "3158   250.0   199.0  ...       0    5429.0     0.0     0.0   1000.0  1855.5   \n",
       "...      ...     ...  ...     ...       ...     ...     ...      ...     ...   \n",
       "3065   360.0  1105.0  ...       0    5429.0     0.0     0.0  10500.0  1855.5   \n",
       "350      0.0     0.0  ...       0    5429.0     0.0     0.0      0.0  1855.5   \n",
       "290      0.0     0.0  ...       3   12501.0   515.0   882.0      0.0  1855.5   \n",
       "4239     0.0     0.0  ...       0    5429.0     0.0     0.0      0.0  1855.5   \n",
       "3210  5267.0     0.0  ...       6  250907.0   200.0   195.0  15620.0  1855.5   \n",
       "\n",
       "      VAR_47  VAR_48  VAR_49  clustering_var_18_category  \n",
       "689      0.0  1541.5    2523                    0.629213  \n",
       "17       3.0  1108.0    1550                    0.629213  \n",
       "778      0.0  1541.5    1500                    0.282486  \n",
       "465      0.0     0.0    3500                    0.861506  \n",
       "3158     0.0  1541.5    1700                    0.629213  \n",
       "...      ...     ...     ...                         ...  \n",
       "3065     0.0  1541.5    1500                    0.629213  \n",
       "350      0.0  1541.5    2000                    0.629213  \n",
       "290    441.0  1541.5    2500                    0.629213  \n",
       "4239     0.0  1541.5    3200                    0.629213  \n",
       "3210   788.0  1541.5   25000                    0.282486  \n",
       "\n",
       "[393 rows x 46 columns]"
      ]
     },
     "execution_count": 228,
     "metadata": {},
     "output_type": "execute_result"
    }
   ],
   "source": [
    "X_train_encoded"
   ]
  },
  {
   "cell_type": "markdown",
   "id": "7a532792-4733-422b-84c9-d9affd3e2d78",
   "metadata": {},
   "source": [
    "# Modeling"
   ]
  },
  {
   "cell_type": "code",
   "execution_count": 229,
   "id": "b1a7adbe-6bd8-48db-8972-9cf232a756d7",
   "metadata": {},
   "outputs": [],
   "source": [
    "import xgboost as xgb"
   ]
  },
  {
   "cell_type": "code",
   "execution_count": 230,
   "id": "398a2833-e668-4635-9cfd-6428c12f30c8",
   "metadata": {},
   "outputs": [
    {
     "data": {
      "text/html": [
       "<style>#sk-container-id-8 {color: black;background-color: white;}#sk-container-id-8 pre{padding: 0;}#sk-container-id-8 div.sk-toggleable {background-color: white;}#sk-container-id-8 label.sk-toggleable__label {cursor: pointer;display: block;width: 100%;margin-bottom: 0;padding: 0.3em;box-sizing: border-box;text-align: center;}#sk-container-id-8 label.sk-toggleable__label-arrow:before {content: \"▸\";float: left;margin-right: 0.25em;color: #696969;}#sk-container-id-8 label.sk-toggleable__label-arrow:hover:before {color: black;}#sk-container-id-8 div.sk-estimator:hover label.sk-toggleable__label-arrow:before {color: black;}#sk-container-id-8 div.sk-toggleable__content {max-height: 0;max-width: 0;overflow: hidden;text-align: left;background-color: #f0f8ff;}#sk-container-id-8 div.sk-toggleable__content pre {margin: 0.2em;color: black;border-radius: 0.25em;background-color: #f0f8ff;}#sk-container-id-8 input.sk-toggleable__control:checked~div.sk-toggleable__content {max-height: 200px;max-width: 100%;overflow: auto;}#sk-container-id-8 input.sk-toggleable__control:checked~label.sk-toggleable__label-arrow:before {content: \"▾\";}#sk-container-id-8 div.sk-estimator input.sk-toggleable__control:checked~label.sk-toggleable__label {background-color: #d4ebff;}#sk-container-id-8 div.sk-label input.sk-toggleable__control:checked~label.sk-toggleable__label {background-color: #d4ebff;}#sk-container-id-8 input.sk-hidden--visually {border: 0;clip: rect(1px 1px 1px 1px);clip: rect(1px, 1px, 1px, 1px);height: 1px;margin: -1px;overflow: hidden;padding: 0;position: absolute;width: 1px;}#sk-container-id-8 div.sk-estimator {font-family: monospace;background-color: #f0f8ff;border: 1px dotted black;border-radius: 0.25em;box-sizing: border-box;margin-bottom: 0.5em;}#sk-container-id-8 div.sk-estimator:hover {background-color: #d4ebff;}#sk-container-id-8 div.sk-parallel-item::after {content: \"\";width: 100%;border-bottom: 1px solid gray;flex-grow: 1;}#sk-container-id-8 div.sk-label:hover label.sk-toggleable__label {background-color: #d4ebff;}#sk-container-id-8 div.sk-serial::before {content: \"\";position: absolute;border-left: 1px solid gray;box-sizing: border-box;top: 0;bottom: 0;left: 50%;z-index: 0;}#sk-container-id-8 div.sk-serial {display: flex;flex-direction: column;align-items: center;background-color: white;padding-right: 0.2em;padding-left: 0.2em;position: relative;}#sk-container-id-8 div.sk-item {position: relative;z-index: 1;}#sk-container-id-8 div.sk-parallel {display: flex;align-items: stretch;justify-content: center;background-color: white;position: relative;}#sk-container-id-8 div.sk-item::before, #sk-container-id-8 div.sk-parallel-item::before {content: \"\";position: absolute;border-left: 1px solid gray;box-sizing: border-box;top: 0;bottom: 0;left: 50%;z-index: -1;}#sk-container-id-8 div.sk-parallel-item {display: flex;flex-direction: column;z-index: 1;position: relative;background-color: white;}#sk-container-id-8 div.sk-parallel-item:first-child::after {align-self: flex-end;width: 50%;}#sk-container-id-8 div.sk-parallel-item:last-child::after {align-self: flex-start;width: 50%;}#sk-container-id-8 div.sk-parallel-item:only-child::after {width: 0;}#sk-container-id-8 div.sk-dashed-wrapped {border: 1px dashed gray;margin: 0 0.4em 0.5em 0.4em;box-sizing: border-box;padding-bottom: 0.4em;background-color: white;}#sk-container-id-8 div.sk-label label {font-family: monospace;font-weight: bold;display: inline-block;line-height: 1.2em;}#sk-container-id-8 div.sk-label-container {text-align: center;}#sk-container-id-8 div.sk-container {/* jupyter's `normalize.less` sets `[hidden] { display: none; }` but bootstrap.min.css set `[hidden] { display: none !important; }` so we also need the `!important` here to be able to override the default hidden behavior on the sphinx rendered scikit-learn.org. See: https://github.com/scikit-learn/scikit-learn/issues/21755 */display: inline-block !important;position: relative;}#sk-container-id-8 div.sk-text-repr-fallback {display: none;}</style><div id=\"sk-container-id-8\" class=\"sk-top-container\"><div class=\"sk-text-repr-fallback\"><pre>XGBClassifier(base_score=None, booster=None, callbacks=None,\n",
       "              colsample_bylevel=None, colsample_bynode=None,\n",
       "              colsample_bytree=0.013620236111352338, early_stopping_rounds=None,\n",
       "              enable_categorical=False, eval_metric=None, feature_types=None,\n",
       "              gamma=0.0792930740680663, gpu_id=None, grow_policy=None,\n",
       "              importance_type=None, interaction_constraints=None,\n",
       "              learning_rate=0.11934001656805693, max_bin=None,\n",
       "              max_cat_threshold=None, max_cat_to_onehot=None,\n",
       "              max_delta_step=None, max_depth=7, max_leaves=None,\n",
       "              min_child_weight=10, missing=nan, monotone_constraints=None,\n",
       "              n_estimators=465, n_jobs=None, num_parallel_tree=None,\n",
       "              predictor=None, random_state=None, ...)</pre><b>In a Jupyter environment, please rerun this cell to show the HTML representation or trust the notebook. <br />On GitHub, the HTML representation is unable to render, please try loading this page with nbviewer.org.</b></div><div class=\"sk-container\" hidden><div class=\"sk-item\"><div class=\"sk-estimator sk-toggleable\"><input class=\"sk-toggleable__control sk-hidden--visually\" id=\"sk-estimator-id-8\" type=\"checkbox\" checked><label for=\"sk-estimator-id-8\" class=\"sk-toggleable__label sk-toggleable__label-arrow\">XGBClassifier</label><div class=\"sk-toggleable__content\"><pre>XGBClassifier(base_score=None, booster=None, callbacks=None,\n",
       "              colsample_bylevel=None, colsample_bynode=None,\n",
       "              colsample_bytree=0.013620236111352338, early_stopping_rounds=None,\n",
       "              enable_categorical=False, eval_metric=None, feature_types=None,\n",
       "              gamma=0.0792930740680663, gpu_id=None, grow_policy=None,\n",
       "              importance_type=None, interaction_constraints=None,\n",
       "              learning_rate=0.11934001656805693, max_bin=None,\n",
       "              max_cat_threshold=None, max_cat_to_onehot=None,\n",
       "              max_delta_step=None, max_depth=7, max_leaves=None,\n",
       "              min_child_weight=10, missing=nan, monotone_constraints=None,\n",
       "              n_estimators=465, n_jobs=None, num_parallel_tree=None,\n",
       "              predictor=None, random_state=None, ...)</pre></div></div></div></div></div>"
      ],
      "text/plain": [
       "XGBClassifier(base_score=None, booster=None, callbacks=None,\n",
       "              colsample_bylevel=None, colsample_bynode=None,\n",
       "              colsample_bytree=0.013620236111352338, early_stopping_rounds=None,\n",
       "              enable_categorical=False, eval_metric=None, feature_types=None,\n",
       "              gamma=0.0792930740680663, gpu_id=None, grow_policy=None,\n",
       "              importance_type=None, interaction_constraints=None,\n",
       "              learning_rate=0.11934001656805693, max_bin=None,\n",
       "              max_cat_threshold=None, max_cat_to_onehot=None,\n",
       "              max_delta_step=None, max_depth=7, max_leaves=None,\n",
       "              min_child_weight=10, missing=nan, monotone_constraints=None,\n",
       "              n_estimators=465, n_jobs=None, num_parallel_tree=None,\n",
       "              predictor=None, random_state=None, ...)"
      ]
     },
     "execution_count": 230,
     "metadata": {},
     "output_type": "execute_result"
    }
   ],
   "source": [
    "xgb_cl = xgb.XGBClassifier(    max_depth=7,\n",
    "    learning_rate=0.11934001656805693,\n",
    "    n_estimators=465,\n",
    "    min_child_weight=10,\n",
    "    gamma=0.0792930740680663,\n",
    "    subsample=0.7290346124954339,\n",
    "    colsample_bytree=0.013620236111352338,\n",
    "    reg_alpha=0.27015945393253243,\n",
    "    reg_lambda=0.20752288541849684)\n",
    "xgb_cl.fit(X_train_encoded, y_train)"
   ]
  },
  {
   "cell_type": "code",
   "execution_count": 231,
   "id": "324e7ffe-b7ce-4243-b985-399a27d9c82e",
   "metadata": {},
   "outputs": [],
   "source": [
    "pred = xgb_cl.predict(X_test_encoded)"
   ]
  },
  {
   "cell_type": "code",
   "execution_count": 232,
   "id": "7bfdb124-08a7-48a5-ba10-26975959206c",
   "metadata": {},
   "outputs": [
    {
     "data": {
      "text/plain": [
       "array([0, 0, 1, 0, 0, 1, 1, 0, 0, 0, 0, 0, 1, 1, 1, 0, 0, 1, 1, 0, 0, 1,\n",
       "       1, 1, 1, 1, 1, 1, 0, 1, 1, 0, 0, 1, 1, 1, 0, 0, 1, 1, 0, 0, 1, 0,\n",
       "       0, 1, 0, 1, 0, 0, 1, 1, 1, 1, 1, 0, 0, 1, 0, 1, 1, 1, 0, 0, 0, 1,\n",
       "       1, 0, 0, 0, 1, 1, 1, 1, 1, 1, 1, 0, 1, 1, 0, 0, 1, 0, 0, 1, 1, 0,\n",
       "       0, 0, 1, 0, 1, 0, 0, 1, 1, 0, 0])"
      ]
     },
     "execution_count": 232,
     "metadata": {},
     "output_type": "execute_result"
    }
   ],
   "source": [
    "pred"
   ]
  },
  {
   "cell_type": "code",
   "execution_count": 233,
   "id": "5a0d2de0-0537-4a85-9c1f-8f474df243a4",
   "metadata": {},
   "outputs": [
    {
     "data": {
      "text/html": [
       "<div>\n",
       "<style scoped>\n",
       "    .dataframe tbody tr th:only-of-type {\n",
       "        vertical-align: middle;\n",
       "    }\n",
       "\n",
       "    .dataframe tbody tr th {\n",
       "        vertical-align: top;\n",
       "    }\n",
       "\n",
       "    .dataframe thead th {\n",
       "        text-align: right;\n",
       "    }\n",
       "</style>\n",
       "<table border=\"1\" class=\"dataframe\">\n",
       "  <thead>\n",
       "    <tr style=\"text-align: right;\">\n",
       "      <th></th>\n",
       "      <th>VAR_1</th>\n",
       "      <th>VAR_2</th>\n",
       "      <th>VAR_3</th>\n",
       "      <th>VAR_4</th>\n",
       "      <th>VAR_5</th>\n",
       "      <th>VAR_6</th>\n",
       "      <th>VAR_7</th>\n",
       "      <th>VAR_8</th>\n",
       "      <th>VAR_9</th>\n",
       "      <th>VAR_10</th>\n",
       "      <th>...</th>\n",
       "      <th>VAR_39</th>\n",
       "      <th>VAR_40</th>\n",
       "      <th>VAR_41</th>\n",
       "      <th>VAR_42</th>\n",
       "      <th>VAR_44</th>\n",
       "      <th>VAR_46</th>\n",
       "      <th>VAR_47</th>\n",
       "      <th>VAR_48</th>\n",
       "      <th>VAR_49</th>\n",
       "      <th>clustering_var_18_category</th>\n",
       "    </tr>\n",
       "  </thead>\n",
       "  <tbody>\n",
       "    <tr>\n",
       "      <th>411</th>\n",
       "      <td>3811</td>\n",
       "      <td>0.519380</td>\n",
       "      <td>34.0</td>\n",
       "      <td>1900.0</td>\n",
       "      <td>1900.0</td>\n",
       "      <td>3.0</td>\n",
       "      <td>1900.0</td>\n",
       "      <td>1542.0</td>\n",
       "      <td>302.0</td>\n",
       "      <td>0.0</td>\n",
       "      <td>...</td>\n",
       "      <td>9</td>\n",
       "      <td>8000.0</td>\n",
       "      <td>1122.0</td>\n",
       "      <td>378.0</td>\n",
       "      <td>1900.0</td>\n",
       "      <td>1855.5</td>\n",
       "      <td>190.0</td>\n",
       "      <td>1541.5</td>\n",
       "      <td>1800</td>\n",
       "      <td>0.282486</td>\n",
       "    </tr>\n",
       "    <tr>\n",
       "      <th>3126</th>\n",
       "      <td>3904</td>\n",
       "      <td>0.519380</td>\n",
       "      <td>34.0</td>\n",
       "      <td>6000.0</td>\n",
       "      <td>6000.0</td>\n",
       "      <td>0.0</td>\n",
       "      <td>8300.0</td>\n",
       "      <td>1753.0</td>\n",
       "      <td>2401.0</td>\n",
       "      <td>0.0</td>\n",
       "      <td>...</td>\n",
       "      <td>0</td>\n",
       "      <td>2003.0</td>\n",
       "      <td>1.0</td>\n",
       "      <td>17.0</td>\n",
       "      <td>4150.0</td>\n",
       "      <td>1855.5</td>\n",
       "      <td>15.0</td>\n",
       "      <td>1541.5</td>\n",
       "      <td>3000</td>\n",
       "      <td>0.282486</td>\n",
       "    </tr>\n",
       "    <tr>\n",
       "      <th>125</th>\n",
       "      <td>5009</td>\n",
       "      <td>0.416667</td>\n",
       "      <td>34.0</td>\n",
       "      <td>0.0</td>\n",
       "      <td>0.0</td>\n",
       "      <td>0.0</td>\n",
       "      <td>0.0</td>\n",
       "      <td>0.0</td>\n",
       "      <td>0.0</td>\n",
       "      <td>0.0</td>\n",
       "      <td>...</td>\n",
       "      <td>0</td>\n",
       "      <td>5429.0</td>\n",
       "      <td>0.0</td>\n",
       "      <td>0.0</td>\n",
       "      <td>0.0</td>\n",
       "      <td>1855.5</td>\n",
       "      <td>0.0</td>\n",
       "      <td>1541.5</td>\n",
       "      <td>2500</td>\n",
       "      <td>0.629213</td>\n",
       "    </tr>\n",
       "    <tr>\n",
       "      <th>328</th>\n",
       "      <td>3007</td>\n",
       "      <td>0.616951</td>\n",
       "      <td>34.0</td>\n",
       "      <td>13900.0</td>\n",
       "      <td>13900.0</td>\n",
       "      <td>0.0</td>\n",
       "      <td>13900.0</td>\n",
       "      <td>3503.0</td>\n",
       "      <td>401.0</td>\n",
       "      <td>0.0</td>\n",
       "      <td>...</td>\n",
       "      <td>0</td>\n",
       "      <td>5429.0</td>\n",
       "      <td>0.0</td>\n",
       "      <td>0.0</td>\n",
       "      <td>13900.0</td>\n",
       "      <td>1855.5</td>\n",
       "      <td>0.0</td>\n",
       "      <td>1541.5</td>\n",
       "      <td>3200</td>\n",
       "      <td>0.629213</td>\n",
       "    </tr>\n",
       "    <tr>\n",
       "      <th>3954</th>\n",
       "      <td>4107</td>\n",
       "      <td>0.416667</td>\n",
       "      <td>48.0</td>\n",
       "      <td>10000.0</td>\n",
       "      <td>1900.0</td>\n",
       "      <td>0.0</td>\n",
       "      <td>31900.0</td>\n",
       "      <td>4191.0</td>\n",
       "      <td>1115.0</td>\n",
       "      <td>0.0</td>\n",
       "      <td>...</td>\n",
       "      <td>45</td>\n",
       "      <td>5429.0</td>\n",
       "      <td>1601.0</td>\n",
       "      <td>2242.0</td>\n",
       "      <td>10633.0</td>\n",
       "      <td>1855.5</td>\n",
       "      <td>3970.0</td>\n",
       "      <td>1541.5</td>\n",
       "      <td>7000</td>\n",
       "      <td>0.282486</td>\n",
       "    </tr>\n",
       "    <tr>\n",
       "      <th>...</th>\n",
       "      <td>...</td>\n",
       "      <td>...</td>\n",
       "      <td>...</td>\n",
       "      <td>...</td>\n",
       "      <td>...</td>\n",
       "      <td>...</td>\n",
       "      <td>...</td>\n",
       "      <td>...</td>\n",
       "      <td>...</td>\n",
       "      <td>...</td>\n",
       "      <td>...</td>\n",
       "      <td>...</td>\n",
       "      <td>...</td>\n",
       "      <td>...</td>\n",
       "      <td>...</td>\n",
       "      <td>...</td>\n",
       "      <td>...</td>\n",
       "      <td>...</td>\n",
       "      <td>...</td>\n",
       "      <td>...</td>\n",
       "      <td>...</td>\n",
       "    </tr>\n",
       "    <tr>\n",
       "      <th>222</th>\n",
       "      <td>3706</td>\n",
       "      <td>0.416667</td>\n",
       "      <td>34.0</td>\n",
       "      <td>20800.0</td>\n",
       "      <td>3000.0</td>\n",
       "      <td>0.0</td>\n",
       "      <td>52050.0</td>\n",
       "      <td>4809.0</td>\n",
       "      <td>1710.0</td>\n",
       "      <td>0.0</td>\n",
       "      <td>...</td>\n",
       "      <td>1</td>\n",
       "      <td>4892.0</td>\n",
       "      <td>1749.0</td>\n",
       "      <td>570.0</td>\n",
       "      <td>10410.0</td>\n",
       "      <td>1855.5</td>\n",
       "      <td>287.0</td>\n",
       "      <td>1541.5</td>\n",
       "      <td>2900</td>\n",
       "      <td>0.282486</td>\n",
       "    </tr>\n",
       "    <tr>\n",
       "      <th>19</th>\n",
       "      <td>2205</td>\n",
       "      <td>0.519380</td>\n",
       "      <td>34.0</td>\n",
       "      <td>1000.0</td>\n",
       "      <td>1000.0</td>\n",
       "      <td>1.0</td>\n",
       "      <td>1000.0</td>\n",
       "      <td>806.0</td>\n",
       "      <td>209.0</td>\n",
       "      <td>180.0</td>\n",
       "      <td>...</td>\n",
       "      <td>16</td>\n",
       "      <td>11342.0</td>\n",
       "      <td>4.0</td>\n",
       "      <td>1104.0</td>\n",
       "      <td>1000.0</td>\n",
       "      <td>1855.5</td>\n",
       "      <td>571.0</td>\n",
       "      <td>0.0</td>\n",
       "      <td>1500</td>\n",
       "      <td>0.629213</td>\n",
       "    </tr>\n",
       "    <tr>\n",
       "      <th>64</th>\n",
       "      <td>3304</td>\n",
       "      <td>0.519380</td>\n",
       "      <td>34.0</td>\n",
       "      <td>3000.0</td>\n",
       "      <td>3000.0</td>\n",
       "      <td>2.0</td>\n",
       "      <td>3000.0</td>\n",
       "      <td>2910.0</td>\n",
       "      <td>1045.0</td>\n",
       "      <td>0.0</td>\n",
       "      <td>...</td>\n",
       "      <td>2</td>\n",
       "      <td>5429.0</td>\n",
       "      <td>218.0</td>\n",
       "      <td>95.0</td>\n",
       "      <td>3000.0</td>\n",
       "      <td>151.0</td>\n",
       "      <td>48.0</td>\n",
       "      <td>1384.0</td>\n",
       "      <td>1600</td>\n",
       "      <td>0.861506</td>\n",
       "    </tr>\n",
       "    <tr>\n",
       "      <th>1402</th>\n",
       "      <td>2810</td>\n",
       "      <td>0.416667</td>\n",
       "      <td>20.0</td>\n",
       "      <td>1100.0</td>\n",
       "      <td>800.0</td>\n",
       "      <td>1.0</td>\n",
       "      <td>3900.0</td>\n",
       "      <td>1913.0</td>\n",
       "      <td>1401.0</td>\n",
       "      <td>0.0</td>\n",
       "      <td>...</td>\n",
       "      <td>23</td>\n",
       "      <td>5429.0</td>\n",
       "      <td>56.0</td>\n",
       "      <td>55.0</td>\n",
       "      <td>1300.0</td>\n",
       "      <td>949.0</td>\n",
       "      <td>29.0</td>\n",
       "      <td>963.0</td>\n",
       "      <td>950</td>\n",
       "      <td>0.282486</td>\n",
       "    </tr>\n",
       "    <tr>\n",
       "      <th>72</th>\n",
       "      <td>4209</td>\n",
       "      <td>0.416667</td>\n",
       "      <td>34.0</td>\n",
       "      <td>10000.0</td>\n",
       "      <td>10000.0</td>\n",
       "      <td>0.0</td>\n",
       "      <td>10000.0</td>\n",
       "      <td>235.0</td>\n",
       "      <td>125.0</td>\n",
       "      <td>0.0</td>\n",
       "      <td>...</td>\n",
       "      <td>5</td>\n",
       "      <td>5429.0</td>\n",
       "      <td>0.0</td>\n",
       "      <td>0.0</td>\n",
       "      <td>10000.0</td>\n",
       "      <td>1855.5</td>\n",
       "      <td>0.0</td>\n",
       "      <td>0.0</td>\n",
       "      <td>2600</td>\n",
       "      <td>0.282486</td>\n",
       "    </tr>\n",
       "  </tbody>\n",
       "</table>\n",
       "<p>99 rows × 46 columns</p>\n",
       "</div>"
      ],
      "text/plain": [
       "      VAR_1     VAR_2  VAR_3    VAR_4    VAR_5  VAR_6    VAR_7   VAR_8  \\\n",
       "411    3811  0.519380   34.0   1900.0   1900.0    3.0   1900.0  1542.0   \n",
       "3126   3904  0.519380   34.0   6000.0   6000.0    0.0   8300.0  1753.0   \n",
       "125    5009  0.416667   34.0      0.0      0.0    0.0      0.0     0.0   \n",
       "328    3007  0.616951   34.0  13900.0  13900.0    0.0  13900.0  3503.0   \n",
       "3954   4107  0.416667   48.0  10000.0   1900.0    0.0  31900.0  4191.0   \n",
       "...     ...       ...    ...      ...      ...    ...      ...     ...   \n",
       "222    3706  0.416667   34.0  20800.0   3000.0    0.0  52050.0  4809.0   \n",
       "19     2205  0.519380   34.0   1000.0   1000.0    1.0   1000.0   806.0   \n",
       "64     3304  0.519380   34.0   3000.0   3000.0    2.0   3000.0  2910.0   \n",
       "1402   2810  0.416667   20.0   1100.0    800.0    1.0   3900.0  1913.0   \n",
       "72     4209  0.416667   34.0  10000.0  10000.0    0.0  10000.0   235.0   \n",
       "\n",
       "       VAR_9  VAR_10  ...  VAR_39   VAR_40  VAR_41  VAR_42   VAR_44  VAR_46  \\\n",
       "411    302.0     0.0  ...       9   8000.0  1122.0   378.0   1900.0  1855.5   \n",
       "3126  2401.0     0.0  ...       0   2003.0     1.0    17.0   4150.0  1855.5   \n",
       "125      0.0     0.0  ...       0   5429.0     0.0     0.0      0.0  1855.5   \n",
       "328    401.0     0.0  ...       0   5429.0     0.0     0.0  13900.0  1855.5   \n",
       "3954  1115.0     0.0  ...      45   5429.0  1601.0  2242.0  10633.0  1855.5   \n",
       "...      ...     ...  ...     ...      ...     ...     ...      ...     ...   \n",
       "222   1710.0     0.0  ...       1   4892.0  1749.0   570.0  10410.0  1855.5   \n",
       "19     209.0   180.0  ...      16  11342.0     4.0  1104.0   1000.0  1855.5   \n",
       "64    1045.0     0.0  ...       2   5429.0   218.0    95.0   3000.0   151.0   \n",
       "1402  1401.0     0.0  ...      23   5429.0    56.0    55.0   1300.0   949.0   \n",
       "72     125.0     0.0  ...       5   5429.0     0.0     0.0  10000.0  1855.5   \n",
       "\n",
       "      VAR_47  VAR_48  VAR_49  clustering_var_18_category  \n",
       "411    190.0  1541.5    1800                    0.282486  \n",
       "3126    15.0  1541.5    3000                    0.282486  \n",
       "125      0.0  1541.5    2500                    0.629213  \n",
       "328      0.0  1541.5    3200                    0.629213  \n",
       "3954  3970.0  1541.5    7000                    0.282486  \n",
       "...      ...     ...     ...                         ...  \n",
       "222    287.0  1541.5    2900                    0.282486  \n",
       "19     571.0     0.0    1500                    0.629213  \n",
       "64      48.0  1384.0    1600                    0.861506  \n",
       "1402    29.0   963.0     950                    0.282486  \n",
       "72       0.0     0.0    2600                    0.282486  \n",
       "\n",
       "[99 rows x 46 columns]"
      ]
     },
     "execution_count": 233,
     "metadata": {},
     "output_type": "execute_result"
    }
   ],
   "source": [
    "X_test_encoded"
   ]
  },
  {
   "cell_type": "code",
   "execution_count": 234,
   "id": "d6dc2fa4-063a-409e-aa54-1f02141bef32",
   "metadata": {},
   "outputs": [
    {
     "name": "stdout",
     "output_type": "stream",
     "text": [
      "              precision    recall  f1-score   support\n",
      "\n",
      "           0       0.79      0.74      0.76        50\n",
      "           1       0.75      0.80      0.77        49\n",
      "\n",
      "    accuracy                           0.77        99\n",
      "   macro avg       0.77      0.77      0.77        99\n",
      "weighted avg       0.77      0.77      0.77        99\n",
      "\n"
     ]
    },
    {
     "data": {
      "image/png": "[encoded data removed]",
      "text/plain": [
       "<Figure size 600x600 with 2 Axes>"
      ]
     },
     "metadata": {},
     "output_type": "display_data"
    }
   ],
   "source": [
    "### Classification Evaluation Metrics\n",
    "# sklearn'ün sunduğu classfication report ve confusion matrix, ROC Curve\n",
    "from sklearn.metrics import accuracy_score, confusion_matrix, roc_auc_score, roc_curve\n",
    "from sklearn.metrics import confusion_matrix , classification_report , accuracy_score,f1_score\n",
    "import seaborn as sns\n",
    "import matplotlib.pyplot as plt\n",
    "\n",
    "conf_matrix = confusion_matrix(y_test, pred)\n",
    "print(classification_report(y_test, pred))\n",
    "fig, ax =  plt.subplots(figsize = (6,6))\n",
    "sns.heatmap(conf_matrix, annot=True, fmt= \"d\")\n",
    "plt.ylabel(\"Actual\")\n",
    "plt.xlabel(\"Prediction\")\n",
    "plt.show()"
   ]
  },
  {
   "cell_type": "code",
   "execution_count": 235,
   "id": "70998272-00fe-498c-a6c1-4b115c43a6f0",
   "metadata": {},
   "outputs": [
    {
     "data": {
      "text/plain": [
       "<Axes: title={'center': 'Feature importance'}, xlabel='F score', ylabel='Features'>"
      ]
     },
     "execution_count": 235,
     "metadata": {},
     "output_type": "execute_result"
    },
    {
     "data": {
      "image/png": "[encoded data removed]",
      "text/plain": [
       "<Figure size 640x480 with 1 Axes>"
      ]
     },
     "metadata": {},
     "output_type": "display_data"
    }
   ],
   "source": [
    "from xgboost import plot_importance\n",
    "plot_importance(xgb_cl)"
   ]
  },
  {
   "cell_type": "code",
   "execution_count": 236,
   "id": "96eef963-950d-4f74-9c10-56a9ebbf6cd4",
   "metadata": {},
   "outputs": [
    {
     "data": {
      "text/plain": [
       "array([[0.7131014 , 0.28689864],\n",
       "       [0.63872004, 0.36127993],\n",
       "       [0.1227603 , 0.8772397 ],\n",
       "       [0.5685394 , 0.43146065],\n",
       "       [0.9802432 , 0.0197568 ],\n",
       "       [0.39000434, 0.60999566],\n",
       "       [0.35662824, 0.64337176],\n",
       "       [0.5973153 , 0.4026847 ],\n",
       "       [0.6146443 , 0.3853557 ],\n",
       "       [0.57780313, 0.4221969 ],\n",
       "       [0.525264  , 0.47473595],\n",
       "       [0.8722274 , 0.12777261],\n",
       "       [0.12829983, 0.87170017],\n",
       "       [0.39614576, 0.60385424],\n",
       "       [0.41421282, 0.5857872 ],\n",
       "       [0.73374605, 0.26625398],\n",
       "       [0.68693435, 0.31306562],\n",
       "       [0.04621118, 0.9537888 ],\n",
       "       [0.37069225, 0.62930775],\n",
       "       [0.70839214, 0.29160783],\n",
       "       [0.7380888 , 0.2619112 ],\n",
       "       [0.12780768, 0.8721923 ],\n",
       "       [0.10112393, 0.8988761 ],\n",
       "       [0.1648823 , 0.8351177 ],\n",
       "       [0.3465206 , 0.6534794 ],\n",
       "       [0.46022928, 0.5397707 ],\n",
       "       [0.10970396, 0.89029604],\n",
       "       [0.42564404, 0.57435596],\n",
       "       [0.8477164 , 0.15228361],\n",
       "       [0.30515295, 0.69484705],\n",
       "       [0.10572577, 0.89427423],\n",
       "       [0.6068264 , 0.39317358],\n",
       "       [0.6270491 , 0.37295094],\n",
       "       [0.05884033, 0.94115967],\n",
       "       [0.26068395, 0.73931605],\n",
       "       [0.2065013 , 0.7934987 ],\n",
       "       [0.8681876 , 0.13181238],\n",
       "       [0.69287837, 0.30712163],\n",
       "       [0.04712385, 0.95287615],\n",
       "       [0.21689284, 0.78310716],\n",
       "       [0.93366593, 0.06633407],\n",
       "       [0.8917014 , 0.10829861],\n",
       "       [0.17621261, 0.8237874 ],\n",
       "       [0.9582837 , 0.04171628],\n",
       "       [0.6677703 , 0.33222967],\n",
       "       [0.27781868, 0.7221813 ],\n",
       "       [0.54113746, 0.45886257],\n",
       "       [0.24070907, 0.75929093],\n",
       "       [0.95511746, 0.04488253],\n",
       "       [0.88738924, 0.11261075],\n",
       "       [0.48504126, 0.51495874],\n",
       "       [0.4107437 , 0.5892563 ],\n",
       "       [0.13245583, 0.8675442 ],\n",
       "       [0.03960758, 0.9603924 ],\n",
       "       [0.24662942, 0.7533706 ],\n",
       "       [0.61202526, 0.38797474],\n",
       "       [0.69652903, 0.30347097],\n",
       "       [0.13301039, 0.8669896 ],\n",
       "       [0.6698121 , 0.3301879 ],\n",
       "       [0.22380078, 0.7761992 ],\n",
       "       [0.49205494, 0.50794506],\n",
       "       [0.10238951, 0.8976105 ],\n",
       "       [0.8175268 , 0.18247317],\n",
       "       [0.78410894, 0.21589106],\n",
       "       [0.65328664, 0.34671336],\n",
       "       [0.12004012, 0.8799599 ],\n",
       "       [0.05414683, 0.9458532 ],\n",
       "       [0.9370901 , 0.0629099 ],\n",
       "       [0.6531422 , 0.34685776],\n",
       "       [0.9248594 , 0.07514061],\n",
       "       [0.34694344, 0.65305656],\n",
       "       [0.29117602, 0.708824  ],\n",
       "       [0.17070079, 0.8292992 ],\n",
       "       [0.2962538 , 0.7037462 ],\n",
       "       [0.04992765, 0.95007235],\n",
       "       [0.32267457, 0.6773254 ],\n",
       "       [0.12189472, 0.8781053 ],\n",
       "       [0.90538794, 0.09461206],\n",
       "       [0.09550399, 0.904496  ],\n",
       "       [0.45379204, 0.54620796],\n",
       "       [0.62307405, 0.37692598],\n",
       "       [0.9079126 , 0.09208738],\n",
       "       [0.4430691 , 0.5569309 ],\n",
       "       [0.80439454, 0.19560544],\n",
       "       [0.79461336, 0.20538665],\n",
       "       [0.15246058, 0.8475394 ],\n",
       "       [0.4861315 , 0.5138685 ],\n",
       "       [0.9672845 , 0.03271548],\n",
       "       [0.5487432 , 0.4512568 ],\n",
       "       [0.6897746 , 0.31022543],\n",
       "       [0.22035408, 0.7796459 ],\n",
       "       [0.71712637, 0.28287366],\n",
       "       [0.22704065, 0.77295935],\n",
       "       [0.9795057 , 0.0204943 ],\n",
       "       [0.96533346, 0.03466652],\n",
       "       [0.23715913, 0.76284087],\n",
       "       [0.47293603, 0.52706397],\n",
       "       [0.91457796, 0.08542207],\n",
       "       [0.7116978 , 0.28830218]], dtype=float32)"
      ]
     },
     "execution_count": 236,
     "metadata": {},
     "output_type": "execute_result"
    }
   ],
   "source": [
    "pred_prob = xgb_cl.predict_proba(X_test_encoded)\n",
    "\n",
    "pred_prob"
   ]
  },
  {
   "cell_type": "code",
   "execution_count": 237,
   "id": "ef5eb02c-8152-4c2f-a6f8-7cb4feb6f037",
   "metadata": {},
   "outputs": [
    {
     "name": "stdout",
     "output_type": "stream",
     "text": [
      "              precision    recall  f1-score   support\n",
      "\n",
      "           0       0.80      0.70      0.74        50\n",
      "           1       0.73      0.82      0.77        49\n",
      "\n",
      "    accuracy                           0.76        99\n",
      "   macro avg       0.76      0.76      0.76        99\n",
      "weighted avg       0.76      0.76      0.76        99\n",
      "\n"
     ]
    },
    {
     "data": {
      "image/png": "[encoded data removed]",
      "text/plain": [
       "<Figure size 600x600 with 2 Axes>"
      ]
     },
     "metadata": {},
     "output_type": "display_data"
    }
   ],
   "source": [
    "threshold = 0.45\n",
    "\n",
    "predicted_probabilities = xgb_cl.predict_proba(X_test_encoded)\n",
    "predicted_classes = (predicted_probabilities[:, 1] >= threshold).astype(int)\n",
    "\n",
    "conf_matrix = confusion_matrix(y_test, predicted_classes)\n",
    "print(classification_report(y_test, predicted_classes))\n",
    "fig, ax =  plt.subplots(figsize = (6,6))\n",
    "sns.heatmap(conf_matrix, annot=True, fmt= \"d\")\n",
    "plt.ylabel(\"Actual\")\n",
    "plt.xlabel(\"Prediction\")\n",
    "plt.show()"
   ]
  },
  {
   "cell_type": "code",
   "execution_count": 238,
   "id": "d36a7121-5ccc-4f1e-bbef-1184947b4407",
   "metadata": {},
   "outputs": [
    {
     "data": {
      "application/vnd.plotly.v1+json": {
       "config": {
        "plotlyServerURL": "https://plot.ly"
       },
       "data": [
        {
         "line": {
          "color": "darkorange",
          "width": 2
         },
         "mode": "lines",
         "type": "scatter",
         "x": [
          0,
          0.3,
          1
         ],
         "y": [
          0,
          0.8163265306122449,
          1
         ]
        }
       ],
       "layout": {
        "autosize": true,
        "showlegend": false,
        "template": {
         "data": {
          "bar": [
           {
            "error_x": {
             "color": "#2a3f5f"
            },
            "error_y": {
             "color": "#2a3f5f"
            },
            "marker": {
             "line": {
              "color": "#E5ECF6",
              "width": 0.5
             },
             "pattern": {
              "fillmode": "overlay",
              "size": 10,
              "solidity": 0.2
             }
            },
            "type": "bar"
           }
          ],
          "barpolar": [
           {
            "marker": {
             "line": {
              "color": "#E5ECF6",
              "width": 0.5
             },
             "pattern": {
              "fillmode": "overlay",
              "size": 10,
              "solidity": 0.2
             }
            },
            "type": "barpolar"
           }
          ],
          "carpet": [
           {
            "aaxis": {
             "endlinecolor": "#2a3f5f",
             "gridcolor": "white",
             "linecolor": "white",
             "minorgridcolor": "white",
             "startlinecolor": "#2a3f5f"
            },
            "baxis": {
             "endlinecolor": "#2a3f5f",
             "gridcolor": "white",
             "linecolor": "white",
             "minorgridcolor": "white",
             "startlinecolor": "#2a3f5f"
            },
            "type": "carpet"
           }
          ],
          "choropleth": [
           {
            "colorbar": {
             "outlinewidth": 0,
             "ticks": ""
            },
            "type": "choropleth"
           }
          ],
          "contour": [
           {
            "colorbar": {
             "outlinewidth": 0,
             "ticks": ""
            },
            "colorscale": [
             [
              0,
              "#0d0887"
             ],
             [
              0.1111111111111111,
              "#46039f"
             ],
             [
              0.2222222222222222,
              "#7201a8"
             ],
             [
              0.3333333333333333,
              "#9c179e"
             ],
             [
              0.4444444444444444,
              "#bd3786"
             ],
             [
              0.5555555555555556,
              "#d8576b"
             ],
             [
              0.6666666666666666,
              "#ed7953"
             ],
             [
              0.7777777777777778,
              "#fb9f3a"
             ],
             [
              0.8888888888888888,
              "#fdca26"
             ],
             [
              1,
              "#f0f921"
             ]
            ],
            "type": "contour"
           }
          ],
          "contourcarpet": [
           {
            "colorbar": {
             "outlinewidth": 0,
             "ticks": ""
            },
            "type": "contourcarpet"
           }
          ],
          "heatmap": [
           {
            "colorbar": {
             "outlinewidth": 0,
             "ticks": ""
            },
            "colorscale": [
             [
              0,
              "#0d0887"
             ],
             [
              0.1111111111111111,
              "#46039f"
             ],
             [
              0.2222222222222222,
              "#7201a8"
             ],
             [
              0.3333333333333333,
              "#9c179e"
             ],
             [
              0.4444444444444444,
              "#bd3786"
             ],
             [
              0.5555555555555556,
              "#d8576b"
             ],
             [
              0.6666666666666666,
              "#ed7953"
             ],
             [
              0.7777777777777778,
              "#fb9f3a"
             ],
             [
              0.8888888888888888,
              "#fdca26"
             ],
             [
              1,
              "#f0f921"
             ]
            ],
            "type": "heatmap"
           }
          ],
          "heatmapgl": [
           {
            "colorbar": {
             "outlinewidth": 0,
             "ticks": ""
            },
            "colorscale": [
             [
              0,
              "#0d0887"
             ],
             [
              0.1111111111111111,
              "#46039f"
             ],
             [
              0.2222222222222222,
              "#7201a8"
             ],
             [
              0.3333333333333333,
              "#9c179e"
             ],
             [
              0.4444444444444444,
              "#bd3786"
             ],
             [
              0.5555555555555556,
              "#d8576b"
             ],
             [
              0.6666666666666666,
              "#ed7953"
             ],
             [
              0.7777777777777778,
              "#fb9f3a"
             ],
             [
              0.8888888888888888,
              "#fdca26"
             ],
             [
              1,
              "#f0f921"
             ]
            ],
            "type": "heatmapgl"
           }
          ],
          "histogram": [
           {
            "marker": {
             "pattern": {
              "fillmode": "overlay",
              "size": 10,
              "solidity": 0.2
             }
            },
            "type": "histogram"
           }
          ],
          "histogram2d": [
           {
            "colorbar": {
             "outlinewidth": 0,
             "ticks": ""
            },
            "colorscale": [
             [
              0,
              "#0d0887"
             ],
             [
              0.1111111111111111,
              "#46039f"
             ],
             [
              0.2222222222222222,
              "#7201a8"
             ],
             [
              0.3333333333333333,
              "#9c179e"
             ],
             [
              0.4444444444444444,
              "#bd3786"
             ],
             [
              0.5555555555555556,
              "#d8576b"
             ],
             [
              0.6666666666666666,
              "#ed7953"
             ],
             [
              0.7777777777777778,
              "#fb9f3a"
             ],
             [
              0.8888888888888888,
              "#fdca26"
             ],
             [
              1,
              "#f0f921"
             ]
            ],
            "type": "histogram2d"
           }
          ],
          "histogram2dcontour": [
           {
            "colorbar": {
             "outlinewidth": 0,
             "ticks": ""
            },
            "colorscale": [
             [
              0,
              "#0d0887"
             ],
             [
              0.1111111111111111,
              "#46039f"
             ],
             [
              0.2222222222222222,
              "#7201a8"
             ],
             [
              0.3333333333333333,
              "#9c179e"
             ],
             [
              0.4444444444444444,
              "#bd3786"
             ],
             [
              0.5555555555555556,
              "#d8576b"
             ],
             [
              0.6666666666666666,
              "#ed7953"
             ],
             [
              0.7777777777777778,
              "#fb9f3a"
             ],
             [
              0.8888888888888888,
              "#fdca26"
             ],
             [
              1,
              "#f0f921"
             ]
            ],
            "type": "histogram2dcontour"
           }
          ],
          "mesh3d": [
           {
            "colorbar": {
             "outlinewidth": 0,
             "ticks": ""
            },
            "type": "mesh3d"
           }
          ],
          "parcoords": [
           {
            "line": {
             "colorbar": {
              "outlinewidth": 0,
              "ticks": ""
             }
            },
            "type": "parcoords"
           }
          ],
          "pie": [
           {
            "automargin": true,
            "type": "pie"
           }
          ],
          "scatter": [
           {
            "fillpattern": {
             "fillmode": "overlay",
             "size": 10,
             "solidity": 0.2
            },
            "type": "scatter"
           }
          ],
          "scatter3d": [
           {
            "line": {
             "colorbar": {
              "outlinewidth": 0,
              "ticks": ""
             }
            },
            "marker": {
             "colorbar": {
              "outlinewidth": 0,
              "ticks": ""
             }
            },
            "type": "scatter3d"
           }
          ],
          "scattercarpet": [
           {
            "marker": {
             "colorbar": {
              "outlinewidth": 0,
              "ticks": ""
             }
            },
            "type": "scattercarpet"
           }
          ],
          "scattergeo": [
           {
            "marker": {
             "colorbar": {
              "outlinewidth": 0,
              "ticks": ""
             }
            },
            "type": "scattergeo"
           }
          ],
          "scattergl": [
           {
            "marker": {
             "colorbar": {
              "outlinewidth": 0,
              "ticks": ""
             }
            },
            "type": "scattergl"
           }
          ],
          "scattermapbox": [
           {
            "marker": {
             "colorbar": {
              "outlinewidth": 0,
              "ticks": ""
             }
            },
            "type": "scattermapbox"
           }
          ],
          "scatterpolar": [
           {
            "marker": {
             "colorbar": {
              "outlinewidth": 0,
              "ticks": ""
             }
            },
            "type": "scatterpolar"
           }
          ],
          "scatterpolargl": [
           {
            "marker": {
             "colorbar": {
              "outlinewidth": 0,
              "ticks": ""
             }
            },
            "type": "scatterpolargl"
           }
          ],
          "scatterternary": [
           {
            "marker": {
             "colorbar": {
              "outlinewidth": 0,
              "ticks": ""
             }
            },
            "type": "scatterternary"
           }
          ],
          "surface": [
           {
            "colorbar": {
             "outlinewidth": 0,
             "ticks": ""
            },
            "colorscale": [
             [
              0,
              "#0d0887"
             ],
             [
              0.1111111111111111,
              "#46039f"
             ],
             [
              0.2222222222222222,
              "#7201a8"
             ],
             [
              0.3333333333333333,
              "#9c179e"
             ],
             [
              0.4444444444444444,
              "#bd3786"
             ],
             [
              0.5555555555555556,
              "#d8576b"
             ],
             [
              0.6666666666666666,
              "#ed7953"
             ],
             [
              0.7777777777777778,
              "#fb9f3a"
             ],
             [
              0.8888888888888888,
              "#fdca26"
             ],
             [
              1,
              "#f0f921"
             ]
            ],
            "type": "surface"
           }
          ],
          "table": [
           {
            "cells": {
             "fill": {
              "color": "#EBF0F8"
             },
             "line": {
              "color": "white"
             }
            },
            "header": {
             "fill": {
              "color": "#C8D4E3"
             },
             "line": {
              "color": "white"
             }
            },
            "type": "table"
           }
          ]
         },
         "layout": {
          "annotationdefaults": {
           "arrowcolor": "#2a3f5f",
           "arrowhead": 0,
           "arrowwidth": 1
          },
          "autotypenumbers": "strict",
          "coloraxis": {
           "colorbar": {
            "outlinewidth": 0,
            "ticks": ""
           }
          },
          "colorscale": {
           "diverging": [
            [
             0,
             "#8e0152"
            ],
            [
             0.1,
             "#c51b7d"
            ],
            [
             0.2,
             "#de77ae"
            ],
            [
             0.3,
             "#f1b6da"
            ],
            [
             0.4,
             "#fde0ef"
            ],
            [
             0.5,
             "#f7f7f7"
            ],
            [
             0.6,
             "#e6f5d0"
            ],
            [
             0.7,
             "#b8e186"
            ],
            [
             0.8,
             "#7fbc41"
            ],
            [
             0.9,
             "#4d9221"
            ],
            [
             1,
             "#276419"
            ]
           ],
           "sequential": [
            [
             0,
             "#0d0887"
            ],
            [
             0.1111111111111111,
             "#46039f"
            ],
            [
             0.2222222222222222,
             "#7201a8"
            ],
            [
             0.3333333333333333,
             "#9c179e"
            ],
            [
             0.4444444444444444,
             "#bd3786"
            ],
            [
             0.5555555555555556,
             "#d8576b"
            ],
            [
             0.6666666666666666,
             "#ed7953"
            ],
            [
             0.7777777777777778,
             "#fb9f3a"
            ],
            [
             0.8888888888888888,
             "#fdca26"
            ],
            [
             1,
             "#f0f921"
            ]
           ],
           "sequentialminus": [
            [
             0,
             "#0d0887"
            ],
            [
             0.1111111111111111,
             "#46039f"
            ],
            [
             0.2222222222222222,
             "#7201a8"
            ],
            [
             0.3333333333333333,
             "#9c179e"
            ],
            [
             0.4444444444444444,
             "#bd3786"
            ],
            [
             0.5555555555555556,
             "#d8576b"
            ],
            [
             0.6666666666666666,
             "#ed7953"
            ],
            [
             0.7777777777777778,
             "#fb9f3a"
            ],
            [
             0.8888888888888888,
             "#fdca26"
            ],
            [
             1,
             "#f0f921"
            ]
           ]
          },
          "colorway": [
           "#636efa",
           "#EF553B",
           "#00cc96",
           "#ab63fa",
           "#FFA15A",
           "#19d3f3",
           "#FF6692",
           "#B6E880",
           "#FF97FF",
           "#FECB52"
          ],
          "font": {
           "color": "#2a3f5f"
          },
          "geo": {
           "bgcolor": "white",
           "lakecolor": "white",
           "landcolor": "#E5ECF6",
           "showlakes": true,
           "showland": true,
           "subunitcolor": "white"
          },
          "hoverlabel": {
           "align": "left"
          },
          "hovermode": "closest",
          "mapbox": {
           "style": "light"
          },
          "paper_bgcolor": "white",
          "plot_bgcolor": "#E5ECF6",
          "polar": {
           "angularaxis": {
            "gridcolor": "white",
            "linecolor": "white",
            "ticks": ""
           },
           "bgcolor": "#E5ECF6",
           "radialaxis": {
            "gridcolor": "white",
            "linecolor": "white",
            "ticks": ""
           }
          },
          "scene": {
           "xaxis": {
            "backgroundcolor": "#E5ECF6",
            "gridcolor": "white",
            "gridwidth": 2,
            "linecolor": "white",
            "showbackground": true,
            "ticks": "",
            "zerolinecolor": "white"
           },
           "yaxis": {
            "backgroundcolor": "#E5ECF6",
            "gridcolor": "white",
            "gridwidth": 2,
            "linecolor": "white",
            "showbackground": true,
            "ticks": "",
            "zerolinecolor": "white"
           },
           "zaxis": {
            "backgroundcolor": "#E5ECF6",
            "gridcolor": "white",
            "gridwidth": 2,
            "linecolor": "white",
            "showbackground": true,
            "ticks": "",
            "zerolinecolor": "white"
           }
          },
          "shapedefaults": {
           "line": {
            "color": "#2a3f5f"
           }
          },
          "ternary": {
           "aaxis": {
            "gridcolor": "white",
            "linecolor": "white",
            "ticks": ""
           },
           "baxis": {
            "gridcolor": "white",
            "linecolor": "white",
            "ticks": ""
           },
           "bgcolor": "#E5ECF6",
           "caxis": {
            "gridcolor": "white",
            "linecolor": "white",
            "ticks": ""
           }
          },
          "title": {
           "x": 0.05
          },
          "xaxis": {
           "automargin": true,
           "gridcolor": "white",
           "linecolor": "white",
           "ticks": "",
           "title": {
            "standoff": 15
           },
           "zerolinecolor": "white",
           "zerolinewidth": 2
          },
          "yaxis": {
           "automargin": true,
           "gridcolor": "white",
           "linecolor": "white",
           "ticks": "",
           "title": {
            "standoff": 15
           },
           "zerolinecolor": "white",
           "zerolinewidth": 2
          }
         }
        },
        "title": {
         "text": "ROC Curve"
        },
        "xaxis": {
         "autorange": true,
         "range": [
          0,
          1
         ],
         "title": {
          "text": "False Positive Rate"
         },
         "type": "linear"
        },
        "yaxis": {
         "autorange": true,
         "range": [
          -0.05555555555555555,
          1.0555555555555556
         ],
         "title": {
          "text": "True Positive Rate"
         },
         "type": "linear"
        }
       }
      },
      "image/png": "[encoded data removed]",
      "text/html": [
       "<div>                            <div id=\"ad67cf74-ed50-4ad4-b9eb-097bc40fcbc4\" class=\"plotly-graph-div\" style=\"height:525px; width:100%;\"></div>            <script type=\"text/javascript\">                require([\"plotly\"], function(Plotly) {                    window.PLOTLYENV=window.PLOTLYENV || {};                                    if (document.getElementById(\"ad67cf74-ed50-4ad4-b9eb-097bc40fcbc4\")) {                    Plotly.newPlot(                        \"ad67cf74-ed50-4ad4-b9eb-097bc40fcbc4\",                        [{\"line\":{\"color\":\"darkorange\",\"width\":2},\"mode\":\"lines\",\"x\":[0.0,0.3,1.0],\"y\":[0.0,0.8163265306122449,1.0],\"type\":\"scatter\"}],                        {\"template\":{\"data\":{\"histogram2dcontour\":[{\"type\":\"histogram2dcontour\",\"colorbar\":{\"outlinewidth\":0,\"ticks\":\"\"},\"colorscale\":[[0.0,\"#0d0887\"],[0.1111111111111111,\"#46039f\"],[0.2222222222222222,\"#7201a8\"],[0.3333333333333333,\"#9c179e\"],[0.4444444444444444,\"#bd3786\"],[0.5555555555555556,\"#d8576b\"],[0.6666666666666666,\"#ed7953\"],[0.7777777777777778,\"#fb9f3a\"],[0.8888888888888888,\"#fdca26\"],[1.0,\"#f0f921\"]]}],\"choropleth\":[{\"type\":\"choropleth\",\"colorbar\":{\"outlinewidth\":0,\"ticks\":\"\"}}],\"histogram2d\":[{\"type\":\"histogram2d\",\"colorbar\":{\"outlinewidth\":0,\"ticks\":\"\"},\"colorscale\":[[0.0,\"#0d0887\"],[0.1111111111111111,\"#46039f\"],[0.2222222222222222,\"#7201a8\"],[0.3333333333333333,\"#9c179e\"],[0.4444444444444444,\"#bd3786\"],[0.5555555555555556,\"#d8576b\"],[0.6666666666666666,\"#ed7953\"],[0.7777777777777778,\"#fb9f3a\"],[0.8888888888888888,\"#fdca26\"],[1.0,\"#f0f921\"]]}],\"heatmap\":[{\"type\":\"heatmap\",\"colorbar\":{\"outlinewidth\":0,\"ticks\":\"\"},\"colorscale\":[[0.0,\"#0d0887\"],[0.1111111111111111,\"#46039f\"],[0.2222222222222222,\"#7201a8\"],[0.3333333333333333,\"#9c179e\"],[0.4444444444444444,\"#bd3786\"],[0.5555555555555556,\"#d8576b\"],[0.6666666666666666,\"#ed7953\"],[0.7777777777777778,\"#fb9f3a\"],[0.8888888888888888,\"#fdca26\"],[1.0,\"#f0f921\"]]}],\"heatmapgl\":[{\"type\":\"heatmapgl\",\"colorbar\":{\"outlinewidth\":0,\"ticks\":\"\"},\"colorscale\":[[0.0,\"#0d0887\"],[0.1111111111111111,\"#46039f\"],[0.2222222222222222,\"#7201a8\"],[0.3333333333333333,\"#9c179e\"],[0.4444444444444444,\"#bd3786\"],[0.5555555555555556,\"#d8576b\"],[0.6666666666666666,\"#ed7953\"],[0.7777777777777778,\"#fb9f3a\"],[0.8888888888888888,\"#fdca26\"],[1.0,\"#f0f921\"]]}],\"contourcarpet\":[{\"type\":\"contourcarpet\",\"colorbar\":{\"outlinewidth\":0,\"ticks\":\"\"}}],\"contour\":[{\"type\":\"contour\",\"colorbar\":{\"outlinewidth\":0,\"ticks\":\"\"},\"colorscale\":[[0.0,\"#0d0887\"],[0.1111111111111111,\"#46039f\"],[0.2222222222222222,\"#7201a8\"],[0.3333333333333333,\"#9c179e\"],[0.4444444444444444,\"#bd3786\"],[0.5555555555555556,\"#d8576b\"],[0.6666666666666666,\"#ed7953\"],[0.7777777777777778,\"#fb9f3a\"],[0.8888888888888888,\"#fdca26\"],[1.0,\"#f0f921\"]]}],\"surface\":[{\"type\":\"surface\",\"colorbar\":{\"outlinewidth\":0,\"ticks\":\"\"},\"colorscale\":[[0.0,\"#0d0887\"],[0.1111111111111111,\"#46039f\"],[0.2222222222222222,\"#7201a8\"],[0.3333333333333333,\"#9c179e\"],[0.4444444444444444,\"#bd3786\"],[0.5555555555555556,\"#d8576b\"],[0.6666666666666666,\"#ed7953\"],[0.7777777777777778,\"#fb9f3a\"],[0.8888888888888888,\"#fdca26\"],[1.0,\"#f0f921\"]]}],\"mesh3d\":[{\"type\":\"mesh3d\",\"colorbar\":{\"outlinewidth\":0,\"ticks\":\"\"}}],\"scatter\":[{\"fillpattern\":{\"fillmode\":\"overlay\",\"size\":10,\"solidity\":0.2},\"type\":\"scatter\"}],\"parcoords\":[{\"type\":\"parcoords\",\"line\":{\"colorbar\":{\"outlinewidth\":0,\"ticks\":\"\"}}}],\"scatterpolargl\":[{\"type\":\"scatterpolargl\",\"marker\":{\"colorbar\":{\"outlinewidth\":0,\"ticks\":\"\"}}}],\"bar\":[{\"error_x\":{\"color\":\"#2a3f5f\"},\"error_y\":{\"color\":\"#2a3f5f\"},\"marker\":{\"line\":{\"color\":\"#E5ECF6\",\"width\":0.5},\"pattern\":{\"fillmode\":\"overlay\",\"size\":10,\"solidity\":0.2}},\"type\":\"bar\"}],\"scattergeo\":[{\"type\":\"scattergeo\",\"marker\":{\"colorbar\":{\"outlinewidth\":0,\"ticks\":\"\"}}}],\"scatterpolar\":[{\"type\":\"scatterpolar\",\"marker\":{\"colorbar\":{\"outlinewidth\":0,\"ticks\":\"\"}}}],\"histogram\":[{\"marker\":{\"pattern\":{\"fillmode\":\"overlay\",\"size\":10,\"solidity\":0.2}},\"type\":\"histogram\"}],\"scattergl\":[{\"type\":\"scattergl\",\"marker\":{\"colorbar\":{\"outlinewidth\":0,\"ticks\":\"\"}}}],\"scatter3d\":[{\"type\":\"scatter3d\",\"line\":{\"colorbar\":{\"outlinewidth\":0,\"ticks\":\"\"}},\"marker\":{\"colorbar\":{\"outlinewidth\":0,\"ticks\":\"\"}}}],\"scattermapbox\":[{\"type\":\"scattermapbox\",\"marker\":{\"colorbar\":{\"outlinewidth\":0,\"ticks\":\"\"}}}],\"scatterternary\":[{\"type\":\"scatterternary\",\"marker\":{\"colorbar\":{\"outlinewidth\":0,\"ticks\":\"\"}}}],\"scattercarpet\":[{\"type\":\"scattercarpet\",\"marker\":{\"colorbar\":{\"outlinewidth\":0,\"ticks\":\"\"}}}],\"carpet\":[{\"aaxis\":{\"endlinecolor\":\"#2a3f5f\",\"gridcolor\":\"white\",\"linecolor\":\"white\",\"minorgridcolor\":\"white\",\"startlinecolor\":\"#2a3f5f\"},\"baxis\":{\"endlinecolor\":\"#2a3f5f\",\"gridcolor\":\"white\",\"linecolor\":\"white\",\"minorgridcolor\":\"white\",\"startlinecolor\":\"#2a3f5f\"},\"type\":\"carpet\"}],\"table\":[{\"cells\":{\"fill\":{\"color\":\"#EBF0F8\"},\"line\":{\"color\":\"white\"}},\"header\":{\"fill\":{\"color\":\"#C8D4E3\"},\"line\":{\"color\":\"white\"}},\"type\":\"table\"}],\"barpolar\":[{\"marker\":{\"line\":{\"color\":\"#E5ECF6\",\"width\":0.5},\"pattern\":{\"fillmode\":\"overlay\",\"size\":10,\"solidity\":0.2}},\"type\":\"barpolar\"}],\"pie\":[{\"automargin\":true,\"type\":\"pie\"}]},\"layout\":{\"autotypenumbers\":\"strict\",\"colorway\":[\"#636efa\",\"#EF553B\",\"#00cc96\",\"#ab63fa\",\"#FFA15A\",\"#19d3f3\",\"#FF6692\",\"#B6E880\",\"#FF97FF\",\"#FECB52\"],\"font\":{\"color\":\"#2a3f5f\"},\"hovermode\":\"closest\",\"hoverlabel\":{\"align\":\"left\"},\"paper_bgcolor\":\"white\",\"plot_bgcolor\":\"#E5ECF6\",\"polar\":{\"bgcolor\":\"#E5ECF6\",\"angularaxis\":{\"gridcolor\":\"white\",\"linecolor\":\"white\",\"ticks\":\"\"},\"radialaxis\":{\"gridcolor\":\"white\",\"linecolor\":\"white\",\"ticks\":\"\"}},\"ternary\":{\"bgcolor\":\"#E5ECF6\",\"aaxis\":{\"gridcolor\":\"white\",\"linecolor\":\"white\",\"ticks\":\"\"},\"baxis\":{\"gridcolor\":\"white\",\"linecolor\":\"white\",\"ticks\":\"\"},\"caxis\":{\"gridcolor\":\"white\",\"linecolor\":\"white\",\"ticks\":\"\"}},\"coloraxis\":{\"colorbar\":{\"outlinewidth\":0,\"ticks\":\"\"}},\"colorscale\":{\"sequential\":[[0.0,\"#0d0887\"],[0.1111111111111111,\"#46039f\"],[0.2222222222222222,\"#7201a8\"],[0.3333333333333333,\"#9c179e\"],[0.4444444444444444,\"#bd3786\"],[0.5555555555555556,\"#d8576b\"],[0.6666666666666666,\"#ed7953\"],[0.7777777777777778,\"#fb9f3a\"],[0.8888888888888888,\"#fdca26\"],[1.0,\"#f0f921\"]],\"sequentialminus\":[[0.0,\"#0d0887\"],[0.1111111111111111,\"#46039f\"],[0.2222222222222222,\"#7201a8\"],[0.3333333333333333,\"#9c179e\"],[0.4444444444444444,\"#bd3786\"],[0.5555555555555556,\"#d8576b\"],[0.6666666666666666,\"#ed7953\"],[0.7777777777777778,\"#fb9f3a\"],[0.8888888888888888,\"#fdca26\"],[1.0,\"#f0f921\"]],\"diverging\":[[0,\"#8e0152\"],[0.1,\"#c51b7d\"],[0.2,\"#de77ae\"],[0.3,\"#f1b6da\"],[0.4,\"#fde0ef\"],[0.5,\"#f7f7f7\"],[0.6,\"#e6f5d0\"],[0.7,\"#b8e186\"],[0.8,\"#7fbc41\"],[0.9,\"#4d9221\"],[1,\"#276419\"]]},\"xaxis\":{\"gridcolor\":\"white\",\"linecolor\":\"white\",\"ticks\":\"\",\"title\":{\"standoff\":15},\"zerolinecolor\":\"white\",\"automargin\":true,\"zerolinewidth\":2},\"yaxis\":{\"gridcolor\":\"white\",\"linecolor\":\"white\",\"ticks\":\"\",\"title\":{\"standoff\":15},\"zerolinecolor\":\"white\",\"automargin\":true,\"zerolinewidth\":2},\"scene\":{\"xaxis\":{\"backgroundcolor\":\"#E5ECF6\",\"gridcolor\":\"white\",\"linecolor\":\"white\",\"showbackground\":true,\"ticks\":\"\",\"zerolinecolor\":\"white\",\"gridwidth\":2},\"yaxis\":{\"backgroundcolor\":\"#E5ECF6\",\"gridcolor\":\"white\",\"linecolor\":\"white\",\"showbackground\":true,\"ticks\":\"\",\"zerolinecolor\":\"white\",\"gridwidth\":2},\"zaxis\":{\"backgroundcolor\":\"#E5ECF6\",\"gridcolor\":\"white\",\"linecolor\":\"white\",\"showbackground\":true,\"ticks\":\"\",\"zerolinecolor\":\"white\",\"gridwidth\":2}},\"shapedefaults\":{\"line\":{\"color\":\"#2a3f5f\"}},\"annotationdefaults\":{\"arrowcolor\":\"#2a3f5f\",\"arrowhead\":0,\"arrowwidth\":1},\"geo\":{\"bgcolor\":\"white\",\"landcolor\":\"#E5ECF6\",\"subunitcolor\":\"white\",\"showland\":true,\"showlakes\":true,\"lakecolor\":\"white\"},\"title\":{\"x\":0.05},\"mapbox\":{\"style\":\"light\"}}},\"title\":{\"text\":\"ROC Curve\"},\"xaxis\":{\"title\":{\"text\":\"False Positive Rate\"}},\"yaxis\":{\"title\":{\"text\":\"True Positive Rate\"}},\"showlegend\":false},                        {\"responsive\": true}                    ).then(function(){\n",
       "                            \n",
       "var gd = document.getElementById('ad67cf74-ed50-4ad4-b9eb-097bc40fcbc4');\n",
       "var x = new MutationObserver(function (mutations, observer) {{\n",
       "        var display = window.getComputedStyle(gd).display;\n",
       "        if (!display || display === 'none') {{\n",
       "            console.log([gd, 'removed!']);\n",
       "            Plotly.purge(gd);\n",
       "            observer.disconnect();\n",
       "        }}\n",
       "}});\n",
       "\n",
       "// Listen for the removal of the full notebook cells\n",
       "var notebookContainer = gd.closest('#notebook-container');\n",
       "if (notebookContainer) {{\n",
       "    x.observe(notebookContainer, {childList: true});\n",
       "}}\n",
       "\n",
       "// Listen for the clearing of the current output cell\n",
       "var outputEl = gd.closest('.output');\n",
       "if (outputEl) {{\n",
       "    x.observe(outputEl, {childList: true});\n",
       "}}\n",
       "\n",
       "                        })                };                });            </script>        </div>"
      ]
     },
     "metadata": {},
     "output_type": "display_data"
    }
   ],
   "source": [
    "import plotly.graph_objects as go\n",
    "# ROC Curve oluşturma\n",
    "fpr, tpr, thresholds = roc_curve(y_test, predicted_classes)\n",
    "\n",
    "# Plotly ile ROC Curve oluşturma\n",
    "fig = go.Figure()\n",
    "fig.add_trace(go.Scatter(x=fpr, y=tpr,\n",
    "                    mode='lines',\n",
    "                    line=dict(color='darkorange', width=2)))\n",
    "fig.update_layout(title='ROC Curve',\n",
    "                  xaxis_title='False Positive Rate',\n",
    "                  yaxis_title='True Positive Rate',\n",
    "                  showlegend=False)\n",
    "fig.show()"
   ]
  },
  {
   "cell_type": "code",
   "execution_count": 239,
   "id": "5e8f706b-12fa-45a7-8849-74875af09bb3",
   "metadata": {},
   "outputs": [
    {
     "name": "stdout",
     "output_type": "stream",
     "text": [
      "Cross-Validation Sonuçları:\n",
      "[0.75949367 0.74683544 0.6835443  0.73076923 0.76923077]\n",
      "Ortalama Doğruluk (Accuracy): 0.7379746835443038\n"
     ]
    }
   ],
   "source": [
    "from sklearn.model_selection import cross_val_score\n",
    "\n",
    "# Modeli oluşturun (yukarıda verilen best trial parametreleri kullanılabilir)\n",
    "model = xgb.XGBClassifier(\n",
    "\n",
    "   max_depth=7,\n",
    "    learning_rate=0.11934001656805693,\n",
    "    n_estimators=465,\n",
    "    min_child_weight=10,\n",
    "    gamma=0.0792930740680663,\n",
    "    subsample=0.7290346124954339,\n",
    "    colsample_bytree=0.013620236111352338,\n",
    "    reg_alpha=0.27015945393253243,\n",
    "    reg_lambda=0.20752288541849684\n",
    ")\n",
    "\n",
    "# 5-Fold Cross-Validation yapın ve performans metriklerini hesaplayın\n",
    "cv_scores = cross_val_score(model, X_train_encoded, y_train, cv=5, scoring='accuracy')\n",
    "\n",
    "# Cross-Validation sonuçlarını ekrana yazdırın\n",
    "print(\"Cross-Validation Sonuçları:\")\n",
    "print(cv_scores)\n",
    "print(\"Ortalama Doğruluk (Accuracy):\", cv_scores.mean())"
   ]
  },
  {
   "cell_type": "code",
   "execution_count": 240,
   "id": "377d3761-f198-4aa2-8dd7-1dc173dd398e",
   "metadata": {},
   "outputs": [],
   "source": [
    "import optuna\n",
    "def objective(trial):\n",
    "    \"\"\"Define the objective function\"\"\"\n",
    "\n",
    "    params = {\n",
    "        'max_depth': trial.suggest_int('max_depth', 1, 9),\n",
    "        'learning_rate': trial.suggest_float('learning_rate', 0.01, 1.0),\n",
    "        'n_estimators': trial.suggest_int('n_estimators', 50, 500),\n",
    "        'min_child_weight': trial.suggest_int('min_child_weight', 1, 10),\n",
    "        'gamma': trial.suggest_float('gamma', 1e-8, 1.0),\n",
    "        'subsample': trial.suggest_float('subsample', 0.01, 1.0),\n",
    "        'colsample_bytree': trial.suggest_float ('colsample_bytree', 0.01, 1.0),\n",
    "        'reg_alpha': trial.suggest_float('reg_alpha', 1e-8, 1.0),\n",
    "        'reg_lambda': trial.suggest_float('reg_lambda', 1e-8, 1.0),\n",
    "        'eval_metric': 'mlogloss',\n",
    "        \n",
    "    }\n",
    "    # Fit the model\n",
    "    optuna_model = xgb.XGBClassifier(**params)\n",
    "    optuna_model.fit(X_train_encoded, y_train)\n",
    "\n",
    "    # Make predictions\n",
    "    y_pred = optuna_model.predict(X_test_encoded)\n",
    "\n",
    "    # Evaluate predictions\n",
    "    f1score = f1_score(y_test, y_pred)\n",
    "    return f1score"
   ]
  },
  {
   "cell_type": "markdown",
   "id": "029b09c1-9cf3-4047-aaf6-35865fb646c7",
   "metadata": {},
   "source": [
    "study = optuna.create_study(direction='maximize')\n",
    "study.optimize(objective, n_trials=60)\n",
    "\n",
    "print('Number of finished trials: {}'.format(len(study.trials)))\n",
    "print('Best trial:')\n",
    "trial = study.best_trial\n",
    "\n",
    "print('  Value: {}'.format(trial.value))\n",
    "print('  Params: ')\n",
    "\n",
    "for key, value in trial.params.items():\n",
    "    print('    {}: {}'.format(key, value))"
   ]
  },
  {
   "cell_type": "code",
   "execution_count": null,
   "id": "fa848060-2c60-48a7-9453-af6cb16d1e62",
   "metadata": {},
   "outputs": [],
   "source": []
  },
  {
   "cell_type": "code",
   "execution_count": null,
   "id": "dcdb471a-1043-41a0-8ae9-2a0b74cf406c",
   "metadata": {},
   "outputs": [],
   "source": []
  },
  {
   "cell_type": "code",
   "execution_count": null,
   "id": "5411597a-72e0-4819-8d78-40eb40abcb89",
   "metadata": {},
   "outputs": [],
   "source": []
  },
  {
   "cell_type": "code",
   "execution_count": null,
   "id": "6089345e-3b2d-4c28-b271-2cb05777a732",
   "metadata": {},
   "outputs": [],
   "source": []
  },
  {
   "cell_type": "code",
   "execution_count": null,
   "id": "4175799d-8df0-4cbf-9b8c-9b9151087bc6",
   "metadata": {},
   "outputs": [],
   "source": []
  },
  {
   "cell_type": "code",
   "execution_count": null,
   "id": "979a2939-a29d-4461-bb84-d43190241729",
   "metadata": {},
   "outputs": [],
   "source": []
  },
  {
   "cell_type": "code",
   "execution_count": null,
   "id": "c5f6c13d-d5ec-4e59-8034-3e98ecef644f",
   "metadata": {},
   "outputs": [],
   "source": []
  },
  {
   "cell_type": "code",
   "execution_count": null,
   "id": "1a8d48ac-67f5-46a8-90d7-5201fbc8faea",
   "metadata": {},
   "outputs": [],
   "source": []
  },
  {
   "cell_type": "code",
   "execution_count": null,
   "id": "6dfc9032-51d4-4896-85f8-307deda853db",
   "metadata": {},
   "outputs": [],
   "source": []
  },
  {
   "cell_type": "code",
   "execution_count": null,
   "id": "d61f66a4-9237-4a58-bdbd-dc067f54648d",
   "metadata": {},
   "outputs": [],
   "source": []
  },
  {
   "cell_type": "code",
   "execution_count": null,
   "id": "3f8e4043-b639-4e3b-9868-d64a190c21c2",
   "metadata": {},
   "outputs": [],
   "source": []
  }
 ],
 "metadata": {
  "kernelspec": {
   "display_name": "Python 3 (ipykernel)",
   "language": "python",
   "name": "python3"
  },
  "language_info": {
   "codemirror_mode": {
    "name": "ipython",
    "version": 3
   },
   "file_extension": ".py",
   "mimetype": "text/x-python",
   "name": "python",
   "nbconvert_exporter": "python",
   "pygments_lexer": "ipython3",
   "version": "3.10.9"
  }
 },
 "nbformat": 4,
 "nbformat_minor": 5
}
